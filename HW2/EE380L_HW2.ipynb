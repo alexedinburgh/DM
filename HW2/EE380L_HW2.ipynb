{
 "cells": [
  {
   "cell_type": "markdown",
   "metadata": {
    "ein.tags": "worksheet-0",
    "slideshow": {
     "slide_type": "-"
    }
   },
   "source": [
    "\n",
    "# <p style=\"text-align: center;\">EE 380L: Data Mining</p>\n",
    "# <p style=\"text-align: center;\">Assignment 2</p>\n",
    "## <p style=\"text-align: center;\">Total points: 72</p>\n",
    "## <p style=\"text-align: center;\">Due: Thursday, February 22nd, submitted via Canvas by 11:59 pm</p>\n",
    "\n",
    "Your homework should be written in a **Jupyter notebook**. You may work in groups of two if you wish. Only one student per team needs to submit the assignment on Canvas.  But be sure to include name and UTID for both students.  Homework groups will be created and managed through Canvas, so please do not arbitrarily change your homework group.  \n",
    "\n",
    "Also, please make sure your code runs and the graphics (and anything else) are displayed in your notebook before submitting. (%matplotlib inline)"
   ]
  },
  {
   "cell_type": "markdown",
   "metadata": {},
   "source": [
    "## Name: Xiaocheng Shen (xs2948)\n",
    "## Name: Dawei Liang (dl33629)"
   ]
  },
  {
   "cell_type": "markdown",
   "metadata": {
    "ein.tags": "worksheet-0",
    "slideshow": {
     "slide_type": "-"
    }
   },
   "source": [
    "# Question 1: Ridge and Lasso Regression (20 points)\n",
    "Use the following code to import the dow_jones dataset."
   ]
  },
  {
   "cell_type": "code",
   "execution_count": 1,
   "metadata": {
    "autoscroll": false,
    "collapsed": true,
    "ein.tags": "worksheet-0",
    "slideshow": {
     "slide_type": "-"
    }
   },
   "outputs": [],
   "source": [
    "% matplotlib inline\n",
    "\n",
    "import numpy as np\n",
    "import pandas as pd\n",
    "from sklearn import datasets, linear_model\n",
    "from sklearn.metrics import mean_squared_error\n",
    "\n",
    "from matplotlib import pyplot as plt"
   ]
  },
  {
   "cell_type": "code",
   "execution_count": 2,
   "metadata": {
    "autoscroll": false,
    "collapsed": true,
    "ein.tags": "worksheet-0",
    "slideshow": {
     "slide_type": "-"
    }
   },
   "outputs": [],
   "source": [
    "df = pd.read_csv('dow_jones_index.data')\n",
    "df = df.dropna()\n",
    "X = df[[u'open', u'high', u'low', u'close',\n",
    "       u'volume', u'percent_change_price',\n",
    "       u'percent_change_volume_over_last_wk', u'previous_weeks_volume', u'next_weeks_close',\n",
    "       u'percent_change_next_weeks_price', u'days_to_next_dividend',\n",
    "       u'percent_return_next_dividend']]\n",
    "X = X.as_matrix()\n",
    "\n",
    "for feat in range(X.shape[1]):\n",
    "    try:\n",
    "        if \"$\" in X[0, feat]:\n",
    "            X[:,feat] = [i.split(\"$\")[1] for i in X[:,feat]]\n",
    "    except:\n",
    "        pass\n",
    "X = X.astype('float')\n",
    "X = (X - np.mean(X, axis=0))/np.std(X, axis=0)\n",
    "\n",
    "y = df[[u'next_weeks_open']]\n",
    "y = y.as_matrix()\n",
    "y = [i.split(\"$\")[1] for i in y[:, 0]]\n",
    "y = np.array(y)\n",
    "y = y.astype('float')"
   ]
  },
  {
   "cell_type": "markdown",
   "metadata": {
    "ein.tags": "worksheet-0",
    "slideshow": {
     "slide_type": "-"
    }
   },
   "source": [
    "You will reuse the same dataset that you used in HW1. In this HW, you will add additional second-order polynomial and interaction variables to the features matrix. Note that this code adds all combinations of the features with degree less than or equal to two; in practice one may introduce only a few based on domain knowledge or experimentation."
   ]
  },
  {
   "cell_type": "code",
   "execution_count": 3,
   "metadata": {
    "autoscroll": false,
    "collapsed": true,
    "ein.tags": "worksheet-0",
    "slideshow": {
     "slide_type": "-"
    }
   },
   "outputs": [],
   "source": [
    "from sklearn.preprocessing import PolynomialFeatures\n",
    "X = PolynomialFeatures(2, include_bias=False).fit_transform(X)"
   ]
  },
  {
   "cell_type": "markdown",
   "metadata": {
    "ein.tags": "worksheet-0",
    "slideshow": {
     "slide_type": "-"
    }
   },
   "source": [
    "In this question, you will explore the application of Lasso and Ridge regression using sklearn package in Python. The following code will split the data into training and test set using [train_test_split](http://scikit-learn.org/stable/modules/generated/sklearn.model_selection.train_test_split.html) with **random state 20** and **test_size = 0.33**.  Note: lambda is called alpha in sklearn."
   ]
  },
  {
   "cell_type": "code",
   "execution_count": 4,
   "metadata": {
    "autoscroll": false,
    "collapsed": true,
    "ein.tags": "worksheet-0",
    "slideshow": {
     "slide_type": "-"
    }
   },
   "outputs": [],
   "source": [
    "from sklearn.model_selection import train_test_split\n",
    "X_train, X_test, y_train, y_test = train_test_split(X,y,test_size = 0.33, random_state=20)"
   ]
  },
  {
   "cell_type": "markdown",
   "metadata": {
    "ein.tags": "worksheet-0",
    "slideshow": {
     "slide_type": "-"
    }
   },
   "source": [
    "1) Use sklearn.linear_model.Lasso and sklearn.linear_model.Ridge classes to do a [5-fold cross validation](http://scikit-learn.org/stable/auto_examples/exercises/plot_cv_diabetes.html#example-exercises-plot-cv-diabetes-py) using sklearn's [KFold](http://scikit-learn.org/stable/modules/generated/sklearn.model_selection.KFold.html#sklearn.model_selection.KFold). For the sweep of the regularization parameter, we will look at a grid of values ranging from $\\lambda = 10^{6}$ to $\\lambda = 10^{-2}$. In Python, you can consider this range of values as follows:\n",
    "\n",
    "      import numpy as np\n",
    "\n",
    "      alphas =  10**np.linspace(10,-2,100)*0.5\n",
    "\n",
    "  Report the best chosen $\\lambda$ based on cross validation on each model. The cross validation should happen on your training data using  average MSE as the scoring metric. (5pts)\n",
    "\n",
    "2) Run ridge and lasso for all of the alphas specified above (on training data), and plot the coefficients learned for each of them - there should be one plot each for lasso and ridge, so a total of two plots; the plots for different features for a method should be on the same plot (e.g. Fig 6.6 of JW). What do you qualitatively observe when value of the regularization parameter is changed? What do you observe about the coefficients returned from the ridge and lasso models? (5pts)\n",
    "\n",
    "\n",
    "3) What are the top 10 most important features for the lasso and ridge models for the hyperparameters that got the best MSE? (2pts)\n",
    "\n",
    "\n",
    "4) SKLearn can perform this cross validation for us and choose the best regularization hyper-parameter. It will automatically determine the range of $\\lambda$ s to search over. Run lasso again with cross validation using [sklearn.linear_model.LassoCV](http://scikit-learn.org/stable/modules/generated/sklearn.linear_model.LassoCV.html). Set the cross validation parameters as follows:\n",
    "\n",
    "    LassoCV(alphas=None, cv=10, max_iter=10000)\n",
    "\n",
    "    Report the best $\\lambda$ based on cross validation. (3 pts)\n",
    "    \n",
    "5) \n",
    "    i) Run Ridge, lasso with the best hyperparameters and report the MSE on test data. \n",
    "    ii) Run OLS on the training data with all the features and then with the features selected through lasso (features with non zero weights). Report the MSE on test data. (5 pts)\n",
    "\n",
    "## Answer"
   ]
  },
  {
   "cell_type": "code",
   "execution_count": 5,
   "metadata": {},
   "outputs": [
    {
     "name": "stderr",
     "output_type": "stream",
     "text": [
      "/Users/xiaochengshen/anaconda2/lib/python2.7/site-packages/sklearn/cross_validation.py:41: DeprecationWarning: This module was deprecated in version 0.18 in favor of the model_selection module into which all the refactored classes and functions are moved. Also note that the interface of the new CV iterators are different from that of this module. This module will be removed in 0.20.\n",
      "  \"This module will be removed in 0.20.\", DeprecationWarning)\n",
      "/Users/xiaochengshen/anaconda2/lib/python2.7/site-packages/sklearn/linear_model/coordinate_descent.py:491: ConvergenceWarning: Objective did not converge. You might want to increase the number of iterations. Fitting data with very small alpha may cause precision problems.\n",
      "  ConvergenceWarning)\n"
     ]
    },
    {
     "name": "stdout",
     "output_type": "stream",
     "text": [
      "lambda of Lasso:  0.00873764200004\n",
      "MSE of Lasso:  0.152819958698\n",
      "lambda of Ridge:  0.005\n",
      "MSE of Ridge:  0.00358127472071\n"
     ]
    }
   ],
   "source": [
    "#1) \n",
    "\n",
    "import sys\n",
    "from sklearn.linear_model import Lasso\n",
    "from sklearn.linear_model import Ridge\n",
    "from sklearn.cross_validation import KFold\n",
    "\n",
    "alphas =  10**np.linspace(6,-2,100)*0.5\n",
    "lasso = Lasso(random_state=0)\n",
    "ridge = Ridge(random_state=0)\n",
    "\n",
    "lambda1 = 0\n",
    "lambda2 = 0\n",
    "\n",
    "mseLas1 = sys.maxsize\n",
    "mseLas2 = sys.maxsize\n",
    "\n",
    "for alpha in alphas:\n",
    "    mse1 = 0\n",
    "    mse2 = 0\n",
    "    \n",
    "    kf = KFold(X_train.shape[0], n_folds=5)\n",
    "    \n",
    "    for train_index, test_index in kf:\n",
    "        xv_train, xv_test = X_train[train_index], X_train[test_index]\n",
    "        yv_train, yv_test = y_train[train_index], y_train[test_index]\n",
    "        \n",
    "        rg1 = Lasso(alpha= alpha)\n",
    "        rg2 = Ridge(alpha= alpha)\n",
    "        \n",
    "        rg1.fit(xv_train, yv_train)\n",
    "        rg2.fit(xv_train, yv_train)\n",
    "        \n",
    "        mse1 += np.mean((rg1.predict(xv_test) - yv_test) ** 2)\n",
    "        mse2 += np.mean((rg2.predict(xv_test) - yv_test) ** 2)\n",
    "        \n",
    "    mse1 /= 5\n",
    "    mse2 /= 5\n",
    "    \n",
    "    if(mse1 < mseLas1):\n",
    "        lambda1 = alpha\n",
    "        mseLas1 = mse1\n",
    "    \n",
    "    if(mse2 < mseLas2):\n",
    "        lambda2 = alpha\n",
    "        mseLas2 = mse2\n",
    "        \n",
    "print \"lambda of Lasso: \", lambda1\n",
    "print \"MSE of Lasso: \" , mseLas1\n",
    "\n",
    "print \"lambda of Ridge: \" , lambda2\n",
    "print \"MSE of Ridge: \" , mseLas2\n",
    "\n"
   ]
  },
  {
   "cell_type": "markdown",
   "metadata": {},
   "source": [
    "The best chosen $\\lambda$ of two models are shown above."
   ]
  },
  {
   "cell_type": "code",
   "execution_count": 6,
   "metadata": {},
   "outputs": [
    {
     "data": {
      "image/png": "[encoded data removed]",
      "text/plain": [
       "<matplotlib.figure.Figure at 0x1a0db06fd0>"
      ]
     },
     "metadata": {},
     "output_type": "display_data"
    },
    {
     "data": {
      "image/png": "[encoded data removed]",
      "text/plain": [
       "<matplotlib.figure.Figure at 0x1a0db16510>"
      ]
     },
     "metadata": {},
     "output_type": "display_data"
    }
   ],
   "source": [
    "#2) \n",
    "\n",
    "cof_lasso = []\n",
    "cof_ridge = []\n",
    "\n",
    "for alpha in alphas:\n",
    "    rg1 = Lasso(alpha = alpha)\n",
    "    rg1.fit(X_train, y_train)\n",
    "    cof_lasso.append(rg1.coef_)\n",
    "    \n",
    "    rg2 = Ridge(alpha = alpha)\n",
    "    rg2.fit(X_train, y_train)\n",
    "    cof_ridge.append(rg2.coef_)\n",
    "\n",
    "plt.figure();\n",
    "plt.semilogx(alphas, cof_lasso);\n",
    "plt.figure();\n",
    "plt.semilogx(alphas, cof_ridge);\n"
   ]
  },
  {
   "cell_type": "markdown",
   "metadata": {},
   "source": [
    "For both the Lasso and Ridge methods, the coefficients will become 0 when $\\lambda$ becomes large enough. For the Lasso method, the coefficient becomes 0 earlier than the Ridge and can generate different models when $\\lambda$ is diffrent. But for the Ridge method, the change is more smooth and all the coefficients will become 0 when $\\lambda$ reaches a same value."
   ]
  },
  {
   "cell_type": "code",
   "execution_count": 7,
   "metadata": {},
   "outputs": [
    {
     "name": "stdout",
     "output_type": "stream",
     "text": [
      "('Top10 Lasso', array([ 0,  8,  5, 28,  1,  9, 51, 17,  3,  6]))\n",
      "('Top10 Ridge', array([ 0,  8,  5, 28,  1,  9, 51, 17,  3,  6]))\n"
     ]
    }
   ],
   "source": [
    "#3)\n",
    "rg1 = Lasso(alpha = 0.00873764200004)\n",
    "rg1.fit(X_train, y_train)\n",
    "a = sorted(abs(rg1.coef_))\n",
    "a = abs(rg1.coef_).argsort()\n",
    "#a = a.argsort()\n",
    "top10_lass = a[-10:]\n",
    "top10_lass = np.flipud(top10_lass)\n",
    "print('Top10 Lasso', top10_lass)\n",
    "\n",
    "rg2 = Ridge(alpha = 0.005)\n",
    "rg2.fit(X_train, y_train)\n",
    "b=abs(rg1.coef_).argsort()\n",
    "top10_rid = b[-10:]\n",
    "top10_rid = np.flipud(top10_rid)\n",
    "print('Top10 Ridge', top10_rid)\n"
   ]
  },
  {
   "cell_type": "code",
   "execution_count": 8,
   "metadata": {},
   "outputs": [
    {
     "name": "stdout",
     "output_type": "stream",
     "text": [
      "Best lambda:  0.0466112165952\n",
      "Coef for LassoCV:  [  0.00000000e+00   2.53525574e+00   2.16556032e+00   1.91278452e+01\n",
      "  -0.00000000e+00   5.39972624e-02   0.00000000e+00  -0.00000000e+00\n",
      "   9.06155486e+00  -3.72584773e-01  -0.00000000e+00   0.00000000e+00\n",
      "   0.00000000e+00   0.00000000e+00   0.00000000e+00   0.00000000e+00\n",
      "  -0.00000000e+00   0.00000000e+00   0.00000000e+00  -0.00000000e+00\n",
      "   0.00000000e+00  -0.00000000e+00   0.00000000e+00  -0.00000000e+00\n",
      "   0.00000000e+00   0.00000000e+00   0.00000000e+00  -0.00000000e+00\n",
      "   2.72372354e-02   0.00000000e+00  -0.00000000e+00   0.00000000e+00\n",
      "  -2.25561293e-01  -0.00000000e+00  -0.00000000e+00   0.00000000e+00\n",
      "   0.00000000e+00  -0.00000000e+00   0.00000000e+00   0.00000000e+00\n",
      "  -0.00000000e+00   0.00000000e+00  -0.00000000e+00  -0.00000000e+00\n",
      "  -0.00000000e+00   7.74405274e-04  -0.00000000e+00   0.00000000e+00\n",
      "   0.00000000e+00  -0.00000000e+00   0.00000000e+00  -1.06866344e-03\n",
      "  -0.00000000e+00  -0.00000000e+00  -0.00000000e+00  -0.00000000e+00\n",
      "  -0.00000000e+00  -0.00000000e+00  -0.00000000e+00   0.00000000e+00\n",
      "   0.00000000e+00   0.00000000e+00  -0.00000000e+00   0.00000000e+00\n",
      "  -0.00000000e+00   0.00000000e+00  -0.00000000e+00  -0.00000000e+00\n",
      "  -0.00000000e+00  -0.00000000e+00  -0.00000000e+00   0.00000000e+00\n",
      "  -0.00000000e+00   0.00000000e+00   0.00000000e+00  -0.00000000e+00\n",
      "  -0.00000000e+00   0.00000000e+00  -0.00000000e+00   0.00000000e+00\n",
      "   0.00000000e+00  -0.00000000e+00  -0.00000000e+00  -0.00000000e+00\n",
      "  -0.00000000e+00  -0.00000000e+00   0.00000000e+00  -0.00000000e+00\n",
      "  -0.00000000e+00  -0.00000000e+00]\n"
     ]
    }
   ],
   "source": [
    "#4)\n",
    "\n",
    "from sklearn.linear_model import LassoCV\n",
    "lassoCV = LassoCV(alphas=None, cv=10, max_iter=10000)\n",
    "rg = lassoCV.fit(X_train, y_train)\n",
    "lambda_ = rg.alpha_\n",
    "cof = rg.coef_\n",
    "\n",
    "print \"Best lambda: \", lambda_\n",
    "print \"Coef for LassoCV: \", cof"
   ]
  },
  {
   "cell_type": "code",
   "execution_count": 9,
   "metadata": {},
   "outputs": [
    {
     "name": "stdout",
     "output_type": "stream",
     "text": [
      "('Lasso MSE:', 0.15983136817356811)\n",
      "('Ridge MSE:', 0.0019317330320837991)\n"
     ]
    }
   ],
   "source": [
    "#5-1\n",
    "\n",
    "rg_lasso = Lasso(alpha= 0.00873764200004)\n",
    "rg_lasso.fit(X_train, y_train)\n",
    "mse_lasso = np.mean((rg_lasso.predict(X_test) - y_test) ** 2)\n",
    "\n",
    "rg_ridge = Ridge(alpha= 0.005)\n",
    "rg_ridge.fit(X_train, y_train)\n",
    "mse_ridge = np.mean((rg_ridge.predict(X_test) - y_test) ** 2)\n",
    "\n",
    "print(\"Lasso MSE:\", mse_lasso)\n",
    "print(\"Ridge MSE:\", mse_ridge)\n"
   ]
  },
  {
   "cell_type": "code",
   "execution_count": 12,
   "metadata": {},
   "outputs": [
    {
     "name": "stdout",
     "output_type": "stream",
     "text": [
      "('MSE test full: ', 0.0002554088441751658)\n",
      "('MSE test 10 features: ', 0.0002554088441751658)\n"
     ]
    }
   ],
   "source": [
    "#5-2\n",
    "import statsmodels.api as sm \n",
    "from sklearn import linear_model\n",
    "from sklearn.metrics import mean_squared_error\n",
    "\n",
    "mse = 0\n",
    "\n",
    "model = linear_model.LinearRegression()\n",
    "model.fit(X_train, y_train)\n",
    "predictions_test = model.predict(X_test)\n",
    "mse_train = mean_squared_error(y_test, predictions_test)\n",
    "print(\"MSE test full: \", mse_train)\n",
    "\n",
    "#model = sm.OLS(y_train, X_train)\n",
    "#results = model.fit()\n",
    "\n",
    "\n",
    "\n",
    "index = []\n",
    "training_data = X_train[:,0]\n",
    "\n",
    "for i in range(len(cof)):\n",
    "    if cof[i] != 0:\n",
    "        index.append(i)\n",
    "        training_data = np.vstack((training_data, X_train[:,i]))\n",
    "training_data = X_train[:,index]\n",
    "#print(training_data.shape)\n",
    "\n",
    "model2 = linear_model.LinearRegression()\n",
    "model2.fit(training_data, y_train)\n",
    "predictions_test2 = model.predict(X_test)\n",
    "mse_train2 = mean_squared_error(y_test, predictions_test2)\n",
    "print(\"MSE test 10 features: \", mse_train2)\n",
    "\n",
    "#model2 = sm.OLS(y_train, training_data)\n",
    "#results2 = model2.fit()\n",
    "\n",
    "\n",
    "\n",
    "    \n",
    "        \n",
    "        \n",
    "\n"
   ]
  },
  {
   "cell_type": "markdown",
   "metadata": {
    "ein.tags": "worksheet-0",
    "slideshow": {
     "slide_type": "-"
    }
   },
   "source": [
    "# Question 2: Bias-Variance Tradeoff (5 points)\n",
    "\n",
    "1. Describe the relationship between Ordinary Least Squares and Ridge Regression (the problem analyzed in the previous question) with reference to Bias-Variance trade-off.\n",
    "3. Which is a higher variance model, kNN with k = 1 or with k = 10?"
   ]
  },
  {
   "cell_type": "markdown",
   "metadata": {},
   "source": [
    "1.The Ridge method can cause bigger bias than the OLS in prediction because of the $\\lambda$ term added to its cost function. However, the OLS method can bring bigger variance because the weight of each coefficient contributes the same to the result.\n"
   ]
  },
  {
   "cell_type": "markdown",
   "metadata": {},
   "source": [
    "2.kNN with k = 1 is a higher variance model. The variance is high, because optimizing on only 1-nearest point means that the probability that you model the noise in the data is really high. And the model will depend highly on the subset of data points that are chosen as training data. "
   ]
  },
  {
   "cell_type": "markdown",
   "metadata": {
    "ein.tags": "worksheet-0",
    "slideshow": {
     "slide_type": "-"
    }
   },
   "source": [
    "# Question 3 - Principal Component Analysis (15 points)\n",
    "\n",
    "Import the same dataset with the interaction variables as in Q1."
   ]
  },
  {
   "cell_type": "code",
   "execution_count": 9,
   "metadata": {
    "autoscroll": false,
    "collapsed": true,
    "ein.tags": "worksheet-0",
    "slideshow": {
     "slide_type": "-"
    }
   },
   "outputs": [],
   "source": [
    "% matplotlib inline\n",
    "\n",
    "import numpy as np\n",
    "import pandas as pd\n",
    "from sklearn import datasets, linear_model\n",
    "from sklearn.metrics import mean_squared_error\n",
    "\n",
    "from matplotlib import pyplot as plt"
   ]
  },
  {
   "cell_type": "code",
   "execution_count": 10,
   "metadata": {
    "autoscroll": false,
    "collapsed": true,
    "ein.tags": "worksheet-0",
    "slideshow": {
     "slide_type": "-"
    }
   },
   "outputs": [],
   "source": [
    "df = pd.read_csv('dow_jones_index.data')\n",
    "df = df.dropna()\n",
    "X = df[[u'open', u'high', u'low', u'close',\n",
    "       u'volume', u'percent_change_price',\n",
    "       u'percent_change_volume_over_last_wk', u'previous_weeks_volume', u'next_weeks_close',\n",
    "       u'percent_change_next_weeks_price', u'days_to_next_dividend',\n",
    "       u'percent_return_next_dividend']]\n",
    "X = X.as_matrix()\n",
    "\n",
    "for feat in range(X.shape[1]):\n",
    "    try:\n",
    "        if \"$\" in X[0, feat]:\n",
    "            X[:,feat] = [i.split(\"$\")[1] for i in X[:,feat]]\n",
    "    except:\n",
    "        pass\n",
    "X = X.astype('float')\n",
    "X = (X - np.mean(X, axis=0))/np.std(X, axis=0)\n",
    "\n",
    "y = df[[u'next_weeks_open']]\n",
    "y = y.as_matrix()\n",
    "y = [i.split(\"$\")[1] for i in y[:, 0]]\n",
    "y = np.array(y)\n",
    "y = y.astype('float')"
   ]
  },
  {
   "cell_type": "code",
   "execution_count": 11,
   "metadata": {
    "autoscroll": false,
    "collapsed": true,
    "ein.tags": "worksheet-0",
    "slideshow": {
     "slide_type": "-"
    }
   },
   "outputs": [],
   "source": [
    "from sklearn.preprocessing import PolynomialFeatures\n",
    "X = PolynomialFeatures(2, include_bias=False).fit_transform(X)"
   ]
  },
  {
   "cell_type": "code",
   "execution_count": 12,
   "metadata": {
    "autoscroll": false,
    "collapsed": true,
    "ein.tags": "worksheet-0",
    "slideshow": {
     "slide_type": "-"
    }
   },
   "outputs": [],
   "source": [
    "from sklearn.model_selection import train_test_split\n",
    "X_train, X_test, y_train, y_test = train_test_split(X,y,test_size = 0.33, random_state=20)"
   ]
  },
  {
   "cell_type": "markdown",
   "metadata": {
    "ein.tags": "worksheet-0",
    "slideshow": {
     "slide_type": "-"
    }
   },
   "source": [
    "(a) Perform PCA using the sklearn [PCA](http://scikit-learn.org/stable/modules/generated/sklearn.decomposition.PCA.html) package.  Create i) a scree plot depicting the proportion of variance and ii) a cumulative proportion of variance explained by the principal components of the data (X_train matrix).  Refer to Figure 10.4 of JW for an example.  You may use the output attribute *explained variance ratio*. How many principal components (N1, N2, N3) are required to explain cumulative variance of 90%, 95%, and 99%, respectively? (6 pts)\n",
    "\n",
    "(b) Fit an ordinary least squares linear regression using N1, N2, and N3 number of principal components, respectively. Fit PCA on X_train and predict on X_test. Compare the test MSE using N1, N2, N3 to using all features from PCA (6 pts)\n",
    "\n",
    "(c) Compare this to the MSE reported in Q1.For this dataset, would you use PCA/Lasso as a feature elimination technique based on: (3 pts)\n",
    "i) Interpretability of results\n",
    "ii) MSE value\n",
    "iii) Hyperparameter tuning?\n",
    "\n",
    "## Answer"
   ]
  },
  {
   "cell_type": "code",
   "execution_count": 13,
   "metadata": {},
   "outputs": [
    {
     "data": {
      "image/png": "[encoded data removed]",
      "text/plain": [
       "<matplotlib.figure.Figure at 0x1c18f6e450>"
      ]
     },
     "metadata": {},
     "output_type": "display_data"
    },
    {
     "data": {
      "image/png": "[encoded data removed]",
      "text/plain": [
       "<matplotlib.figure.Figure at 0x1c18fa7c50>"
      ]
     },
     "metadata": {},
     "output_type": "display_data"
    }
   ],
   "source": [
    "#a)\n",
    "from sklearn.decomposition import PCA\n",
    "\n",
    "pca = PCA()\n",
    "pca.fit(X_train)\n",
    "eig_vals = pca.singular_values_\n",
    "eig_vecs = pca.transform(X_train)\n",
    "\n",
    "ratio = pca.explained_variance_ratio_ \n",
    "\n",
    "culmulative = np.empty(len(eig_vals))\n",
    "for i in range (len(eig_vals)):\n",
    "    for j in range (i):\n",
    "        culmulative[i] += ratio[j]\n",
    "\n",
    "y_pos = np.arange(len(eig_vals))\n",
    "plt.bar(y_pos[0:], ratio[0:], align='center', alpha=0.5)\n",
    "plt.show()\n",
    "plt.plot(y_pos[0:], culmulative[0:], '-o')\n",
    "plt.show()\n",
    "\n"
   ]
  },
  {
   "cell_type": "markdown",
   "metadata": {},
   "source": [
    "90%: 12 components\n",
    "\n",
    "95%: 18 components\n",
    "\n",
    "99%: 29 components"
   ]
  },
  {
   "cell_type": "code",
   "execution_count": 14,
   "metadata": {},
   "outputs": [
    {
     "name": "stdout",
     "output_type": "stream",
     "text": [
      "((482, 13), (238, 90))\n",
      "('n1:', 145.4692023776681)\n",
      "('n2:', 27.725886102496517)\n",
      "('n3:', 3.1981565974283117)\n",
      "('all:', 0.00025540895030711581)\n"
     ]
    }
   ],
   "source": [
    "#b)\n",
    "import statsmodels.api as sm\n",
    "from sklearn.decomposition import PCA\n",
    "\n",
    "pca = PCA()\n",
    "pca.fit(X_train)\n",
    "eig_vecs = pca.transform(X_train)\n",
    "X1_train = sm.tools.tools.add_constant(eig_vecs[:,:12])\n",
    "X2_train = sm.tools.tools.add_constant(eig_vecs[:,:18])\n",
    "X3_train = sm.tools.tools.add_constant(eig_vecs[:,:29])\n",
    "X_train_all = sm.tools.tools.add_constant(eig_vecs[:,:])\n",
    "\n",
    "pca = PCA()\n",
    "pca.fit(X_train)\n",
    "eig_vecs_test = pca.transform(X_test)\n",
    "X1_test = sm.tools.tools.add_constant(eig_vecs_test[:,:12])\n",
    "X2_test = sm.tools.tools.add_constant(eig_vecs_test[:,:18])\n",
    "X3_test = sm.tools.tools.add_constant(eig_vecs_test[:,:29])\n",
    "X_test_all = sm.tools.tools.add_constant(eig_vecs_test[:,:])\n",
    "\n",
    "\n",
    "print(X1_train.shape, X_test.shape)\n",
    "model1 = sm.OLS(y_train, X1_train)\n",
    "model2 = sm.OLS(y_train, X2_train)\n",
    "model3 = sm.OLS(y_train, X3_train)\n",
    "model4 = sm.OLS(y_train, X_train_all)\n",
    "\n",
    "results1 = model1.fit()\n",
    "results2 = model2.fit()\n",
    "results3 = model3.fit()\n",
    "results4 = model4.fit()\n",
    "\n",
    "mse1 = np.mean((results1.predict(X1_test) - y_test) ** 2)\n",
    "mse2 = np.mean((results2.predict(X2_test) - y_test) ** 2)\n",
    "mse3 = np.mean((results3.predict(X3_test) - y_test) ** 2)\n",
    "mse4 = np.mean((results4.predict(X_test_all) - y_test) ** 2)\n",
    "\n",
    "\n",
    "print('n1:', mse1)\n",
    "print('n2:', mse2)\n",
    "print('n3:', mse3)\n",
    "print('all:', mse4)\n"
   ]
  },
  {
   "cell_type": "markdown",
   "metadata": {
    "collapsed": true
   },
   "source": [
    "c)\n",
    "\n",
    "Clearly, the PCA method can lead to a less interpretable prediction because of the transform. In contrast, the normal lasso method selects the raw features for regression which can be more interpretation friendly. \n",
    "\n",
    "In terms of the MSE, we can see that the MSE between PCA and lasso can almost be ignored as they are very close. If selecting less number of features(e.g. around 10), however, then the Lasso can be more reliable as the corresponding MSE is much smaller.\n",
    "\n",
    "In terms of hyperparameter tuning, we can see that the PCA method does not require a cross validation process which can be more efficient. However, bearing in mind that the implementaion of PCA can bring bigger computation efforts, it is actually a trade-off selection.\n"
   ]
  },
  {
   "cell_type": "markdown",
   "metadata": {
    "ein.tags": "worksheet-0",
    "slideshow": {
     "slide_type": "-"
    }
   },
   "source": [
    "# Question 4 - Sampling (3+2=5pts)\n",
    "\n",
    "1 . Your firm is conducting a customer survey for a new product. You are tasked with estimating whether the product will be liked or disliked by the entire market. Unfortunately, you cannot reach all the customers. So you randomly sample 400 participants and ask them \"Will you like the product\" as a question. The responses are evenly split. But you attended a Data Mining course, so you know the estimate is not simply 50%. \n",
    "   \n",
    "What are the lower and upper bounds of probability corresponding to a confidence of 99% ($\\alpha = 0.99$)?\n",
    "\n",
    "\n",
    "2 . Your manager asks you to halve the probability range you reported in part 1. This can be accomplished in two different ways:\n",
    "\n",
    "    a) Reduce the confidence without going below 90%. \n",
    "    OR\n",
    "    b) Conduct a new survey to acquire more samples. In this case let us assume that the results are again evenly split.\n",
    "    \n",
    "Which option is viable? If a), what is the highest confidence you can use? And if b), how many samples do you need?\n",
    "\n",
    "## Answer"
   ]
  },
  {
   "cell_type": "markdown",
   "metadata": {
    "collapsed": true
   },
   "source": [
    "1)\n",
    "\n",
    "$$\\alpha = 0.01 => Z_\\frac{\\alpha}{2} = Z_{0.005} = 2.58$$\n",
    "\n",
    "$$P = 0.5, m = 400$$\n",
    "\n",
    "$$=> \\epsilon \\geq \\sqrt{(Z_\\frac{\\alpha}{2})^2 \\times \\frac{P (1 - P)}{m}} = 0.0645$$\n",
    "\n",
    "$$\\therefore \\ Bounds: P \\pm \\epsilon = 0.5 \\pm 0.0645$$\n"
   ]
  },
  {
   "cell_type": "markdown",
   "metadata": {
    "collapsed": true
   },
   "source": [
    "2)\n",
    "$$For \\ confidence \\geq 90 \\%$$\n",
    "\n",
    "$$Now \\epsilon = \\frac{0.0645}{2} = 0.03225$$\n",
    "\n",
    "$$ P = 0.5, m = 400$$\n",
    "\n",
    "$$=>Z_\\frac{\\alpha}{2} \\leq \\sqrt{{\\epsilon}^2 \\times \\frac{m}{P(1-P)}} = 1.29 $$\n",
    "\n",
    "$$i.e. \\alpha = 1 - 0.9015 = 0.0985$$\n",
    "\n",
    "$$Highest \\ confidence: 0.9015$$\n"
   ]
  },
  {
   "cell_type": "markdown",
   "metadata": {},
   "source": [
    "3)\n",
    "$$\\epsilon = 0.03225$$\n",
    "\n",
    "$$P = 0.5, Z_\\frac{\\alpha}{2} = 2.58$$\n",
    "\n",
    "$$=> m \\geq (\\frac{Z_\\frac{\\alpha}{2}}{\\epsilon})^2 \\times P(1 - P) = 1600$$"
   ]
  },
  {
   "cell_type": "markdown",
   "metadata": {
    "ein.tags": "worksheet-0",
    "slideshow": {
     "slide_type": "-"
    }
   },
   "source": [
    "# Question 5: Ridge and Lasso Regression (15 points)\n",
    "The ridge regression problem is characterized by the following loss function:\n",
    "$$\\mathcal{L}(\\beta) = ||X \\beta - y||_2^2 + \\lambda ||\\beta||^2_2$$\n",
    "\n",
    "The ridge regression problem is the case where the penalty term ($\\lambda ||\\beta||$) uses the squared l-2 norm ($\\lambda ||\\beta||^2$).\n",
    "\n",
    "a) Find the closed form solution to the ridge regresion problem\n",
    "$$\\underset{\\beta}{\\mathrm{argmin}} \\mathcal{L}(\\beta)$$\n",
    "where $\\mathcal{L}(\\beta)$ is the loss function above.\n",
    "\n",
    "b) Now given the SVD of $X$ as $U \\Sigma V^T$, express $X \\hat \\beta_{ridge}$ in terms of $U$, $V$ and $\\Sigma$\n",
    "\n",
    "c) Explain what the expression for $X \\hat \\beta_{ridge}$ derived above tells us about how the addition of the regularization term affects the solution. (Hint: think about $\\lambda ||\\beta||^2$ as a penalty term)\n",
    "\n",
    "# Answer"
   ]
  },
  {
   "cell_type": "markdown",
   "metadata": {
    "collapsed": true
   },
   "source": [
    "a)\n",
    "Write as matrix form:\n",
    "\n",
    "Cost function: \n",
    "\n",
    "$$\\mathcal{L} (\\beta) = (y - X \\beta)^T(y - X \\beta) + \\lambda {\\beta}^T \\beta$$\n",
    "\n",
    "$$\\beta = \\mathrm{argmin} \\mathcal{L}(\\beta)$$\n",
    "\n",
    "Find the direvative:\n",
    "\n",
    "$$\\mathcal{L}^{'} = 0 <=> X^TX\\beta + \\lambda \\beta = X^T \\vec{y}$$\n",
    "\n",
    "$$=> \\beta = (X^TX + \\lambda I)^{-1}X^T \\vec{y}$$"
   ]
  },
  {
   "cell_type": "markdown",
   "metadata": {},
   "source": [
    "b)\n",
    "\n",
    "$$X = U \\Sigma V^T$$\n",
    "\n",
    "$$=> X^TX = V\\vec{Z}U^TU\\vec{Z}V = V{\\vec{Z}}^2V^T$$\n",
    "\n",
    "$$y = X\\beta = U\\vec{Z}V^T(V{\\vec{z}}^2V^T + \\lambda VV^T)^{-1}V\\vec{Z}U^T\\vec{y}$$\n",
    "\n",
    "$$= U\\vec{Z}({\\vec{Z}}^2 + \\lambda I)^{-1} \\vec{Z}U^T\\vec{y}$$"
   ]
  },
  {
   "cell_type": "markdown",
   "metadata": {},
   "source": [
    "c)\n",
    "\n",
    "Clearly if $\\lambda$ = 0, the result is the same as we get from the OLS linear regression. But if $\\lambda$ becomes bigger, the corresponding prediction will be smaller, indicating that the weight of the specific coefficient becomes smaller. If $\\lambda$ approaches to infinity, then the corresponding predictor no longer contribute to the prediction.\n"
   ]
  },
  {
   "cell_type": "markdown",
   "metadata": {
    "ein.tags": "worksheet-0",
    "slideshow": {
     "slide_type": "-"
    }
   },
   "source": [
    "# Question 6 - Outliers and Huber Loss (12 pts)\n",
    "\n",
    "In this problem, we will use the same data set from the previous problem set to fit a linear model to the data using a Huber loss function rather than the l-2 norm usually used in OLS. sklearn has a nice API you can use: [http://scikit-learn.org/stable/modules/generated/sklearn.linear_model.HuberRegressor.html#sklearn-linear-model-huberregressor](http://scikit-learn.org/stable/modules/generated/sklearn.linear_model.HuberRegressor.html#sklearn-linear-model-huberregressor)\n",
    "\n",
    "Below is a snippet from the previous problem set to help you get started. For this problem, the only independent variable will be the \"percent\\_change\\_price\" feature.\n"
   ]
  },
  {
   "cell_type": "code",
   "execution_count": 18,
   "metadata": {
    "autoscroll": false,
    "ein.tags": "worksheet-0",
    "slideshow": {
     "slide_type": "-"
    }
   },
   "outputs": [
    {
     "name": "stdout",
     "output_type": "stream",
     "text": [
      "('MSE train: ', 953.53804282290798)\n",
      "('MSE test: ', 1192.1733687430108)\n"
     ]
    }
   ],
   "source": [
    "import pandas as pd\n",
    "import numpy as np\n",
    "from sklearn import linear_model\n",
    "from sklearn.metrics import mean_squared_error\n",
    "\n",
    "df = pd.read_csv('dow_jones_index.data')\n",
    "stock = df[[\"percent_change_price\", \"next_weeks_open\"]]\n",
    "stock = stock.dropna()\n",
    "stock = stock.as_matrix()[1:]\n",
    "stock[:, 1] = [i.split(\"$\")[1] for i in stock[:, 1]]\n",
    "stock = stock.astype('float')\n",
    "stock[:, 0] = (stock[:, 0] - np.mean(stock[:, 0], axis=0))/np.std(stock[:, 0], axis=0)\n",
    "\n",
    "X = stock[:,:1]\n",
    "y = stock[:, 1]\n",
    "X_train = X[:400,]\n",
    "y_train = y[:400]\n",
    "\n",
    "X_test = X[400:,]\n",
    "y_test = y[400:,]\n",
    "\n",
    "clf_train = linear_model.LinearRegression()\n",
    "clf_train.fit(X_train, y_train)\n",
    "predictions_train = clf_train.predict(X_train)\n",
    "mse_train = mean_squared_error(y_train, predictions_train)\n",
    "print('MSE train: ', mse_train)\n",
    "\n",
    "predictions_test = clf_train.predict(X_test)\n",
    "mse_test = mean_squared_error(y_test, predictions_test)\n",
    "print('MSE test: ', mse_test)"
   ]
  },
  {
   "cell_type": "markdown",
   "metadata": {
    "ein.tags": "worksheet-0",
    "slideshow": {
     "slide_type": "-"
    }
   },
   "source": [
    "a) Now do the same for the Huber loss function and print the test and train MSE. Use a regularization coefficient of 0. (5 pts)"
   ]
  },
  {
   "cell_type": "code",
   "execution_count": null,
   "metadata": {
    "autoscroll": false,
    "collapsed": true,
    "ein.tags": "worksheet-0",
    "slideshow": {
     "slide_type": "-"
    }
   },
   "outputs": [],
   "source": [
    "# ANSWER\n",
    "import pandas as pd\n",
    "import numpy as np\n",
    "from sklearn import linear_model\n",
    "from sklearn.metrics import mean_squared_error\n",
    "\n",
    "df = pd.read_csv('G:/Courses/EE380L Data Mining/HW/final/dow_jones_index.data')\n",
    "stock = df[[\"percent_change_price\", \"next_weeks_open\"]]\n",
    "stock = stock.dropna()\n",
    "stock = stock.as_matrix()[1:]\n",
    "stock[:, 1] = [i.split(\"$\")[1] for i in stock[:, 1]]\n",
    "stock = stock.astype('float')\n",
    "stock[:, 0] = (stock[:, 0] - np.mean(stock[:, 0], axis=0))/np.std(stock[:, 0], axis=0)\n",
    "\n",
    "X = stock[:,:1]\n",
    "y = stock[:, 1]\n",
    "X_train = X[:400,]\n",
    "y_train = y[:400]\n",
    "\n",
    "X_test = X[400:,]\n",
    "y_test = y[400:,]\n",
    "\n",
    "clf_train = linear_model.HuberRegressor()\n",
    "clf_train.fit(X_train, y_train)\n",
    "predictions_train = clf_train.predict(X_train)\n",
    "mse_train = mean_squared_error(y_train, predictions_train)\n",
    "print('MSE train Huber: ', mse_train)\n",
    "\n",
    "predictions_test = clf_train.predict(X_test)\n",
    "mse_test = mean_squared_error(y_test, predictions_test)\n",
    "print('MSE test Huber: ', mse_test)\n"
   ]
  },
  {
   "cell_type": "markdown",
   "metadata": {
    "ein.tags": "worksheet-0",
    "slideshow": {
     "slide_type": "-"
    }
   },
   "source": [
    "Now let's artificially introduce some errors intro the train set:"
   ]
  },
  {
   "cell_type": "code",
   "execution_count": null,
   "metadata": {
    "autoscroll": false,
    "collapsed": true,
    "ein.tags": "worksheet-0",
    "slideshow": {
     "slide_type": "-"
    }
   },
   "outputs": [],
   "source": [
    "y_train_outliers = np.copy(y_train)\n",
    "y_train_outliers[0] = 10000.0"
   ]
  },
  {
   "cell_type": "markdown",
   "metadata": {
    "ein.tags": "worksheet-0",
    "slideshow": {
     "slide_type": "-"
    }
   },
   "source": [
    "Note that we would never actually do this in a real application, this is simply for demo purposes.\n",
    "\n",
    "b) Now create two models as before, but using the new y vector during training (one model using OLS and another using the Huber loss). Print the test and train MSE. Use a regularization coefficient of 0. (5 pts)"
   ]
  },
  {
   "cell_type": "code",
   "execution_count": 1,
   "metadata": {
    "autoscroll": false,
    "collapsed": true,
    "ein.tags": "worksheet-0",
    "slideshow": {
     "slide_type": "-"
    }
   },
   "outputs": [],
   "source": [
    "# ANSWER"
   ]
  },
  {
   "cell_type": "markdown",
   "metadata": {
    "ein.tags": "worksheet-0",
    "slideshow": {
     "slide_type": "-"
    }
   },
   "source": [
    "c) Explain the difference in prediction performance of the two models in these two scenarios (one without significant outliers in the data, and the other with a single outlier). (2 pts)"
   ]
  },
  {
   "cell_type": "code",
   "execution_count": null,
   "metadata": {
    "collapsed": true
   },
   "outputs": [],
   "source": []
  }
 ],
 "metadata": {
  "kernelspec": {
   "display_name": "Python 2",
   "language": "python",
   "name": "python2"
  },
  "language_info": {
   "codemirror_mode": {
    "name": "ipython",
    "version": 2
   },
   "file_extension": ".py",
   "mimetype": "text/x-python",
   "name": "python",
   "nbconvert_exporter": "python",
   "pygments_lexer": "ipython2",
   "version": "2.7.14"
  },
  "name": "EE380L_HW2.ipynb"
 },
 "nbformat": 4,
 "nbformat_minor": 1
}
