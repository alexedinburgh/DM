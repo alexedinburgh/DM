{
 "cells": [
  {
   "cell_type": "markdown",
   "metadata": {
    "ein.tags": "worksheet-0",
    "slideshow": {
     "slide_type": "-"
    }
   },
   "source": [
    "\n",
    "# <p style=\"text-align: center;\">EE 380L: Data Mining</p>\n",
    "# <p style=\"text-align: center;\">Assignment 2</p>\n",
    "## <p style=\"text-align: center;\">Total points: 72</p>\n",
    "## <p style=\"text-align: center;\">Due: Tuesday, February 22nd, submitted via Canvas by 11:59 pm</p>\n",
    "\n",
    "Your homework should be written in a **Jupyter notebook**. You may work in groups of two if you wish. Only one student per team needs to submit the assignment on Canvas.  But be sure to include name and UTID for both students.  Homework groups will be created and managed through Canvas, so please do not arbitrarily change your homework group.  \n",
    "\n",
    "Also, please make sure your code runs and the graphics (and anything else) are displayed in your notebook before submitting. (%matplotlib inline)"
   ]
  },
  {
   "cell_type": "markdown",
   "metadata": {},
   "source": [
    "## Name: Xiaocheng Shen (xs2948)\n",
    "## Name: Dawei Liang (dl33629)"
   ]
  },
  {
   "cell_type": "markdown",
   "metadata": {
    "ein.tags": "worksheet-0",
    "slideshow": {
     "slide_type": "-"
    }
   },
   "source": [
    "# Question 1: Ridge and Lasso Regression (20 points)\n",
    "Use the following code to import the dow_jones dataset."
   ]
  },
  {
   "cell_type": "code",
   "execution_count": 3,
   "metadata": {
    "autoscroll": false,
    "ein.tags": "worksheet-0",
    "slideshow": {
     "slide_type": "-"
    }
   },
   "outputs": [],
   "source": [
    "% matplotlib inline\n",
    "\n",
    "import numpy as np\n",
    "import pandas as pd\n",
    "from sklearn import datasets, linear_model\n",
    "from sklearn.metrics import mean_squared_error\n",
    "\n",
    "from matplotlib import pyplot as plt"
   ]
  },
  {
   "cell_type": "code",
   "execution_count": 4,
   "metadata": {
    "autoscroll": false,
    "ein.tags": "worksheet-0",
    "slideshow": {
     "slide_type": "-"
    }
   },
   "outputs": [],
   "source": [
    "df = pd.read_csv('dow_jones_index.data')\n",
    "df = df.dropna()\n",
    "X = df[[u'open', u'high', u'low', u'close',\n",
    "       u'volume', u'percent_change_price',\n",
    "       u'percent_change_volume_over_last_wk', u'previous_weeks_volume', u'next_weeks_close',\n",
    "       u'percent_change_next_weeks_price', u'days_to_next_dividend',\n",
    "       u'percent_return_next_dividend']]\n",
    "X = X.as_matrix()\n",
    "\n",
    "for feat in range(X.shape[1]):\n",
    "    try:\n",
    "        if \"$\" in X[0, feat]:\n",
    "            X[:,feat] = [i.split(\"$\")[1] for i in X[:,feat]]\n",
    "    except:\n",
    "        pass\n",
    "X = X.astype('float')\n",
    "X = (X - np.mean(X, axis=0))/np.std(X, axis=0)\n",
    "\n",
    "y = df[[u'next_weeks_open']]\n",
    "y = y.as_matrix()\n",
    "y = [i.split(\"$\")[1] for i in y[:, 0]]\n",
    "y = np.array(y)\n",
    "y = y.astype('float')"
   ]
  },
  {
   "cell_type": "markdown",
   "metadata": {
    "ein.tags": "worksheet-0",
    "slideshow": {
     "slide_type": "-"
    }
   },
   "source": [
    "You will reuse the same dataset that you used in HW1. In this HW, you will add additional second-order polynomial and interaction variables to the features matrix. Note that this code adds all combinations of the features with degree less than or equal to two; in practice one may introduce only a few based on domain knowledge or experimentation."
   ]
  },
  {
   "cell_type": "code",
   "execution_count": 5,
   "metadata": {
    "autoscroll": false,
    "ein.tags": "worksheet-0",
    "slideshow": {
     "slide_type": "-"
    }
   },
   "outputs": [],
   "source": [
    "from sklearn.preprocessing import PolynomialFeatures\n",
    "X = PolynomialFeatures(2, include_bias=False).fit_transform(X)"
   ]
  },
  {
   "cell_type": "markdown",
   "metadata": {
    "ein.tags": "worksheet-0",
    "slideshow": {
     "slide_type": "-"
    }
   },
   "source": [
    "In this question, you will explore the application of Lasso and Ridge regression using sklearn package in Python. The following code will split the data into training and test set using [train_test_split](http://scikit-learn.org/stable/modules/generated/sklearn.model_selection.train_test_split.html) with **random state 20** and **test_size = 0.33**.  Note: lambda is called alpha in sklearn."
   ]
  },
  {
   "cell_type": "code",
   "execution_count": 6,
   "metadata": {
    "autoscroll": false,
    "ein.tags": "worksheet-0",
    "slideshow": {
     "slide_type": "-"
    }
   },
   "outputs": [],
   "source": [
    "from sklearn.model_selection import train_test_split\n",
    "X_train, X_test, y_train, y_test = train_test_split(X,y,test_size = 0.33, random_state=20)"
   ]
  },
  {
   "cell_type": "markdown",
   "metadata": {
    "ein.tags": "worksheet-0",
    "slideshow": {
     "slide_type": "-"
    }
   },
   "source": [
    "1) Use sklearn.linear_model.Lasso and sklearn.linear_model.Ridge classes to do a [5-fold cross validation](http://scikit-learn.org/stable/auto_examples/exercises/plot_cv_diabetes.html#example-exercises-plot-cv-diabetes-py) using sklearn's [KFold](http://scikit-learn.org/stable/modules/generated/sklearn.model_selection.KFold.html#sklearn.model_selection.KFold). For the sweep of the regularization parameter, we will look at a grid of values ranging from $\\lambda = 10^{6}$ to $\\lambda = 10^{-2}$. In Python, you can consider this range of values as follows:\n",
    "\n",
    "      import numpy as np\n",
    "\n",
    "      alphas =  10**np.linspace(10,-2,100)*0.5\n",
    "\n",
    "  Report the best chosen $\\lambda$ based on cross validation on each model. The cross validation should happen on your training data using  average MSE as the scoring metric. (5pts)\n",
    "\n",
    "2) Run ridge and lasso for all of the alphas specified above (on training data), and plot the coefficients learned for each of them - there should be one plot each for lasso and ridge, so a total of two plots; the plots for different features for a method should be on the same plot (e.g. Fig 6.6 of JW). What do you qualitatively observe when value of the regularization parameter is changed? What do you observe about the coefficients returned from the ridge and lasso models? (5pts)\n",
    "\n",
    "\n",
    "3) What are the top 10 most important features for the lasso and ridge models for the hyperparameters that got the best MSE? (2pts)\n",
    "\n",
    "\n",
    "4) SKLearn can perform this cross validation for us and choose the best regularization hyper-parameter. It will automatically determine the range of $\\lambda$ s to search over. Run lasso again with cross validation using [sklearn.linear_model.LassoCV](http://scikit-learn.org/stable/modules/generated/sklearn.linear_model.LassoCV.html). Set the cross validation parameters as follows:\n",
    "\n",
    "    LassoCV(alphas=None, cv=10, max_iter=10000)\n",
    "\n",
    "    Report the best $\\lambda$ based on cross validation. (3 pts)\n",
    "    \n",
    "5) \n",
    "    i) Run Ridge, lasso with the best hyperparameters and report the MSE on test data. \n",
    "    ii) Run OLS on the training data with all the features and then with the features selected through lasso (features with non zero weights). Report the MSE on test data. (5 pts)\n",
    "\n",
    "## Answer"
   ]
  },
  {
   "cell_type": "code",
   "execution_count": 16,
   "metadata": {},
   "outputs": [
    {
     "name": "stdout",
     "output_type": "stream",
     "text": [
      "lambda of Lasso:  0.00873764200004\n",
      "MSE of Lasso:  0.152819958698\n",
      "lambda of Ridge:  0.005\n",
      "MSE of Ridge:  0.00358127472071\n"
     ]
    }
   ],
   "source": [
    "#1) \n",
    "\n",
    "import sys\n",
    "from sklearn.linear_model import Lasso\n",
    "from sklearn.linear_model import Ridge\n",
    "from sklearn.cross_validation import KFold\n",
    "\n",
    "alphas =  10**np.linspace(6,-2,100)*0.5\n",
    "lasso = Lasso(random_state=0)\n",
    "ridge = Ridge(random_state=0)\n",
    "\n",
    "lambda1 = 0\n",
    "lambda2 = 0\n",
    "\n",
    "mseLas1 = sys.maxsize\n",
    "mseLas2 = sys.maxsize\n",
    "\n",
    "for alpha in alphas:\n",
    "    mse1 = 0\n",
    "    mse2 = 0\n",
    "    \n",
    "    kf = KFold(X_train.shape[0], n_folds=5)\n",
    "    \n",
    "    for train_index, test_index in kf:\n",
    "        xv_train, xv_test = X_train[train_index], X_train[test_index]\n",
    "        yv_train, yv_test = y_train[train_index], y_train[test_index]\n",
    "        \n",
    "        rg1 = Lasso(alpha= alpha)\n",
    "        rg2 = Ridge(alpha= alpha)\n",
    "        \n",
    "        rg1.fit(xv_train, yv_train)\n",
    "        rg2.fit(xv_train, yv_train)\n",
    "        \n",
    "        mse1 += np.mean((rg1.predict(xv_test) - yv_test) ** 2)\n",
    "        mse2 += np.mean((rg2.predict(xv_test) - yv_test) ** 2)\n",
    "        \n",
    "    mse1 /= 5\n",
    "    mse2 /= 5\n",
    "    \n",
    "    if(mse1 < mseLas1):\n",
    "        lambda1 = alpha\n",
    "        mseLas1 = mse1\n",
    "    \n",
    "    if(mse2 < mseLas2):\n",
    "        lambda2 = alpha\n",
    "        mseLas2 = mse2\n",
    "        \n",
    "print \"lambda of Lasso: \", lambda1\n",
    "print \"MSE of Lasso: \" , mseLas1\n",
    "\n",
    "print \"lambda of Ridge: \" , lambda2\n",
    "print \"MSE of Ridge: \" , mseLas2\n",
    "\n"
   ]
  },
  {
   "cell_type": "markdown",
   "metadata": {},
   "source": [
    "The best chosen $\\lambda$ of two models are shown above."
   ]
  },
  {
   "cell_type": "code",
   "execution_count": 23,
   "metadata": {},
   "outputs": [
    {
     "data": {
      "text/plain": [
       "[<matplotlib.lines.Line2D at 0x1a159edb50>,\n",
       " <matplotlib.lines.Line2D at 0x1a15a04b10>,\n",
       " <matplotlib.lines.Line2D at 0x1a15a04c10>,\n",
       " <matplotlib.lines.Line2D at 0x1a15a04cd0>,\n",
       " <matplotlib.lines.Line2D at 0x1a15a04d90>,\n",
       " <matplotlib.lines.Line2D at 0x1a15a04e50>,\n",
       " <matplotlib.lines.Line2D at 0x1a15a04f10>,\n",
       " <matplotlib.lines.Line2D at 0x1a15a04fd0>,\n",
       " <matplotlib.lines.Line2D at 0x1a15a120d0>,\n",
       " <matplotlib.lines.Line2D at 0x1a15a12190>,\n",
       " <matplotlib.lines.Line2D at 0x1a15a12250>,\n",
       " <matplotlib.lines.Line2D at 0x1a15a12310>,\n",
       " <matplotlib.lines.Line2D at 0x1a15a123d0>,\n",
       " <matplotlib.lines.Line2D at 0x1a15a12490>,\n",
       " <matplotlib.lines.Line2D at 0x1a15a12550>,\n",
       " <matplotlib.lines.Line2D at 0x1a15a12610>,\n",
       " <matplotlib.lines.Line2D at 0x1a15a126d0>,\n",
       " <matplotlib.lines.Line2D at 0x1a15a12790>,\n",
       " <matplotlib.lines.Line2D at 0x1a15a12850>,\n",
       " <matplotlib.lines.Line2D at 0x1a15a12910>,\n",
       " <matplotlib.lines.Line2D at 0x1a159e3090>,\n",
       " <matplotlib.lines.Line2D at 0x1a15a12a90>,\n",
       " <matplotlib.lines.Line2D at 0x1a15a12b50>,\n",
       " <matplotlib.lines.Line2D at 0x1a15a12c10>,\n",
       " <matplotlib.lines.Line2D at 0x1a15a12cd0>,\n",
       " <matplotlib.lines.Line2D at 0x1a15a12d90>,\n",
       " <matplotlib.lines.Line2D at 0x1a15a12e50>,\n",
       " <matplotlib.lines.Line2D at 0x1a15a12f10>,\n",
       " <matplotlib.lines.Line2D at 0x1a15a12fd0>,\n",
       " <matplotlib.lines.Line2D at 0x1a15a1c0d0>,\n",
       " <matplotlib.lines.Line2D at 0x1a15a129d0>,\n",
       " <matplotlib.lines.Line2D at 0x1a15a1c250>,\n",
       " <matplotlib.lines.Line2D at 0x1a15a1c310>,\n",
       " <matplotlib.lines.Line2D at 0x1a15a1c3d0>,\n",
       " <matplotlib.lines.Line2D at 0x1a15a1c490>,\n",
       " <matplotlib.lines.Line2D at 0x1a15a1c550>,\n",
       " <matplotlib.lines.Line2D at 0x1a15a1c610>,\n",
       " <matplotlib.lines.Line2D at 0x1a15a1c6d0>,\n",
       " <matplotlib.lines.Line2D at 0x1a15a1c790>,\n",
       " <matplotlib.lines.Line2D at 0x1a15a1c850>,\n",
       " <matplotlib.lines.Line2D at 0x1a15a1c190>,\n",
       " <matplotlib.lines.Line2D at 0x1a15a1c9d0>,\n",
       " <matplotlib.lines.Line2D at 0x1a15a1ca90>,\n",
       " <matplotlib.lines.Line2D at 0x1a15a1cb50>,\n",
       " <matplotlib.lines.Line2D at 0x1a15a1cc10>,\n",
       " <matplotlib.lines.Line2D at 0x1a15a1ccd0>,\n",
       " <matplotlib.lines.Line2D at 0x1a15a1cd90>,\n",
       " <matplotlib.lines.Line2D at 0x1a15a1ce50>,\n",
       " <matplotlib.lines.Line2D at 0x1a15a1cf10>,\n",
       " <matplotlib.lines.Line2D at 0x1a15a1cfd0>,\n",
       " <matplotlib.lines.Line2D at 0x1a15a1c910>,\n",
       " <matplotlib.lines.Line2D at 0x1a15a28190>,\n",
       " <matplotlib.lines.Line2D at 0x1a15a28250>,\n",
       " <matplotlib.lines.Line2D at 0x1a15a28310>,\n",
       " <matplotlib.lines.Line2D at 0x1a15a283d0>,\n",
       " <matplotlib.lines.Line2D at 0x1a15a28490>,\n",
       " <matplotlib.lines.Line2D at 0x1a15a28550>,\n",
       " <matplotlib.lines.Line2D at 0x1a15a28610>,\n",
       " <matplotlib.lines.Line2D at 0x1a15a286d0>,\n",
       " <matplotlib.lines.Line2D at 0x1a15a28790>,\n",
       " <matplotlib.lines.Line2D at 0x1a15a280d0>,\n",
       " <matplotlib.lines.Line2D at 0x1a15a28910>,\n",
       " <matplotlib.lines.Line2D at 0x1a15a289d0>,\n",
       " <matplotlib.lines.Line2D at 0x1a15a28a90>,\n",
       " <matplotlib.lines.Line2D at 0x1a15a28b50>,\n",
       " <matplotlib.lines.Line2D at 0x1a15a28c10>,\n",
       " <matplotlib.lines.Line2D at 0x1a15a28cd0>,\n",
       " <matplotlib.lines.Line2D at 0x1a15a28d90>,\n",
       " <matplotlib.lines.Line2D at 0x1a15a28e50>,\n",
       " <matplotlib.lines.Line2D at 0x1a15a28f10>,\n",
       " <matplotlib.lines.Line2D at 0x1a15a28850>,\n",
       " <matplotlib.lines.Line2D at 0x1a15a320d0>,\n",
       " <matplotlib.lines.Line2D at 0x1a15a32190>,\n",
       " <matplotlib.lines.Line2D at 0x1a15a32250>,\n",
       " <matplotlib.lines.Line2D at 0x1a15a32310>,\n",
       " <matplotlib.lines.Line2D at 0x1a15a323d0>,\n",
       " <matplotlib.lines.Line2D at 0x1a15a32490>,\n",
       " <matplotlib.lines.Line2D at 0x1a15a32550>,\n",
       " <matplotlib.lines.Line2D at 0x1a15a32610>,\n",
       " <matplotlib.lines.Line2D at 0x1a15a326d0>,\n",
       " <matplotlib.lines.Line2D at 0x1a15a28fd0>,\n",
       " <matplotlib.lines.Line2D at 0x1a15a32850>,\n",
       " <matplotlib.lines.Line2D at 0x1a15a32910>,\n",
       " <matplotlib.lines.Line2D at 0x1a15a329d0>,\n",
       " <matplotlib.lines.Line2D at 0x1a15a32a90>,\n",
       " <matplotlib.lines.Line2D at 0x1a15a32b50>,\n",
       " <matplotlib.lines.Line2D at 0x1a15a32c10>,\n",
       " <matplotlib.lines.Line2D at 0x1a15a32cd0>,\n",
       " <matplotlib.lines.Line2D at 0x1a15a32d90>,\n",
       " <matplotlib.lines.Line2D at 0x1a15a32e50>]"
      ]
     },
     "execution_count": 23,
     "metadata": {},
     "output_type": "execute_result"
    },
    {
     "data": {
      "image/png": "[encoded data removed]",
      "text/plain": [
       "<matplotlib.figure.Figure at 0x1a15024e90>"
      ]
     },
     "metadata": {},
     "output_type": "display_data"
    },
    {
     "data": {
      "image/png": "[encoded data removed]",
      "text/plain": [
       "<matplotlib.figure.Figure at 0x1a15861390>"
      ]
     },
     "metadata": {},
     "output_type": "display_data"
    }
   ],
   "source": [
    "#2) \n",
    "\n",
    "cof_lasso = []\n",
    "cof_ridge = []\n",
    "\n",
    "for alpha in alphas:\n",
    "    rg1 = Lasso(alpha = alpha)\n",
    "    rg1.fit(X_train, y_train)\n",
    "    cof_lasso.append(rg1.coef_)\n",
    "    \n",
    "    rg2 = Ridge(alpha = alpha)\n",
    "    rg2.fit(X_train, y_train)\n",
    "    cof_ridge.append(rg2.coef_)\n",
    "\n",
    "plt.figure()\n",
    "plt.semilogx(alphas, cof_lasso)\n",
    "plt.figure()\n",
    "plt.semilogx(alphas, cof_ridge)\n"
   ]
  },
  {
   "cell_type": "markdown",
   "metadata": {},
   "source": [
    "For both the Lasso and Ridge methods, the coefficients will become 0 when $\\lambda$ becomes large enough. For the Lasso method, the coefficient becomes 0 earlier than the Ridge and can generate different models when $\\lambda$ is diffrent. But for the Ridge method, the change is more smooth and all the coefficients will become 0 when $\\lambda$ reaches a same value."
   ]
  },
  {
   "cell_type": "code",
   "execution_count": null,
   "metadata": {
    "collapsed": true
   },
   "outputs": [],
   "source": [
    "#3)"
   ]
  },
  {
   "cell_type": "code",
   "execution_count": 25,
   "metadata": {},
   "outputs": [
    {
     "name": "stdout",
     "output_type": "stream",
     "text": [
      "Best lambda:  0.0466112165952\n",
      "Coef for LassoCV:  [  0.00000000e+00   2.53525574e+00   2.16556032e+00   1.91278452e+01\n",
      "  -0.00000000e+00   5.39972624e-02   0.00000000e+00  -0.00000000e+00\n",
      "   9.06155486e+00  -3.72584773e-01  -0.00000000e+00   0.00000000e+00\n",
      "   0.00000000e+00   0.00000000e+00   0.00000000e+00   0.00000000e+00\n",
      "  -0.00000000e+00   0.00000000e+00   0.00000000e+00  -0.00000000e+00\n",
      "   0.00000000e+00  -0.00000000e+00   0.00000000e+00  -0.00000000e+00\n",
      "   0.00000000e+00   0.00000000e+00   0.00000000e+00  -0.00000000e+00\n",
      "   2.72372354e-02   0.00000000e+00  -0.00000000e+00   0.00000000e+00\n",
      "  -2.25561293e-01  -0.00000000e+00  -0.00000000e+00   0.00000000e+00\n",
      "   0.00000000e+00  -0.00000000e+00   0.00000000e+00   0.00000000e+00\n",
      "  -0.00000000e+00   0.00000000e+00  -0.00000000e+00  -0.00000000e+00\n",
      "  -0.00000000e+00   7.74405274e-04  -0.00000000e+00   0.00000000e+00\n",
      "   0.00000000e+00  -0.00000000e+00   0.00000000e+00  -1.06866344e-03\n",
      "  -0.00000000e+00  -0.00000000e+00  -0.00000000e+00  -0.00000000e+00\n",
      "  -0.00000000e+00  -0.00000000e+00  -0.00000000e+00   0.00000000e+00\n",
      "   0.00000000e+00   0.00000000e+00  -0.00000000e+00   0.00000000e+00\n",
      "  -0.00000000e+00   0.00000000e+00  -0.00000000e+00  -0.00000000e+00\n",
      "  -0.00000000e+00  -0.00000000e+00  -0.00000000e+00   0.00000000e+00\n",
      "  -0.00000000e+00   0.00000000e+00   0.00000000e+00  -0.00000000e+00\n",
      "  -0.00000000e+00   0.00000000e+00  -0.00000000e+00   0.00000000e+00\n",
      "   0.00000000e+00  -0.00000000e+00  -0.00000000e+00  -0.00000000e+00\n",
      "  -0.00000000e+00  -0.00000000e+00   0.00000000e+00  -0.00000000e+00\n",
      "  -0.00000000e+00  -0.00000000e+00]\n"
     ]
    }
   ],
   "source": [
    "#4)\n",
    "\n",
    "from sklearn.linear_model import LassoCV\n",
    "lassoCV = LassoCV(alphas=None, cv=10, max_iter=10000)\n",
    "rg = lassoCV.fit(X_train, y_train)\n",
    "lambda_ = rg.alpha_\n",
    "cof = rg.coef_\n",
    "\n",
    "print \"Best lambda: \", lambda_\n",
    "print \"Coef for LassoCV: \", cof"
   ]
  },
  {
   "cell_type": "code",
   "execution_count": 27,
   "metadata": {},
   "outputs": [
    {
     "name": "stdout",
     "output_type": "stream",
     "text": [
      "('Lasso MSE:', 0.15983136817356811)\n",
      "('Ridge MSE:', 0.0019317330320837991)\n"
     ]
    }
   ],
   "source": [
    "#5-1\n",
    "\n",
    "rg_lasso = Lasso(alpha= 0.00873764200004)\n",
    "rg_lasso.fit(X_train, y_train)\n",
    "mse_lasso = np.mean((rg_lasso.predict(X_test) - y_test) ** 2)\n",
    "\n",
    "rg_ridge = Ridge(alpha= 0.005)\n",
    "rg_ridge.fit(X_train, y_train)\n",
    "mse_ridge = np.mean((rg_ridge.predict(X_test) - y_test) ** 2)\n",
    "\n",
    "print(\"Lasso MSE:\", mse_lasso)\n",
    "print(\"Ridge MSE:\", mse_ridge)\n"
   ]
  },
  {
   "cell_type": "code",
   "execution_count": 64,
   "metadata": {},
   "outputs": [
    {
     "name": "stdout",
     "output_type": "stream",
     "text": [
      "6.82125729259e-05\n",
      "[ -5.95252040e+00   2.63259230e-01  -4.25528130e+00  -5.26409647e+00\n",
      "  -6.15814599e-01  -6.05426754e+00  -4.67168385e+00   1.85069423e-01\n",
      "  -6.66924224e-02   3.97927863e+00  -3.82770077e-01   6.31344034e-02\n",
      "  -4.55650299e-01  -1.69227105e-01  -9.01722045e-02  -4.28013822e+00\n",
      "  -2.82934465e-02  -8.08364137e-01  -8.41594062e-01  -7.76138345e-01\n",
      "  -4.08486927e-01   9.47944785e-01  -4.66982102e-01  -5.61372907e-01\n",
      "  -2.73461174e+00   5.10303053e-01  -5.95641863e-01  -8.72064195e+00\n",
      "  -3.42650742e+00  -5.63637543e-01  -1.67917585e+00  -1.36803278e+00\n",
      "  -1.76679484e-02  -5.70740764e+00  -2.36484597e+00  -3.40367159e+00\n",
      "   2.17569088e-01  -1.46821102e+00  -1.31482518e+00   3.09998397e-01\n",
      "  -5.75499117e-01  -4.26603602e+00  -3.84791300e-01  -1.58747976e+00\n",
      "   8.62321829e-02   1.57896520e-02  -2.78475820e-01  -8.99928766e-01\n",
      "  -2.44054709e-01  -1.20359572e+00  -1.28604223e+00  -5.21690065e+00\n",
      "  -2.40645549e-01   6.64319015e-01  -5.15716489e+00  -4.12780406e+00\n",
      "  -2.01888879e+00  -3.86930865e-02  -7.79718747e-02   4.41792428e-01\n",
      "  -2.81846920e+00  -1.10892083e-01  -5.06519587e-03   2.56859754e+00\n",
      "   7.71624365e-04  -3.31100347e-01  -5.37464192e+00  -4.06067868e+00\n",
      "  -2.34825503e-01  -2.81411864e-01  -5.70446289e-02  -6.60291113e-01\n",
      "  -4.93873101e-01  -7.22096323e-01  -3.69248027e-01  -1.33522459e+00\n",
      "   3.67808844e-02   1.68798634e-01  -7.51611243e-02  -2.66647294e-01\n",
      "  -1.60969703e-02   1.61892579e-02  -4.38805562e-01  -2.85114256e-01\n",
      "  -1.00330540e+00  -3.63849869e-02   7.37891046e-01  -3.43305655e+00\n",
      "  -1.44485958e+00  -4.92345091e+00   1.22442962e+00  -9.10949902e-02\n",
      "  -7.23343051e-02  -6.26306228e-01   6.83439798e-01  -7.33289313e+00\n",
      "  -2.31300746e-01  -1.26072730e+00  -3.43718450e+00  -5.23659129e+00\n",
      "  -1.65567129e+00   3.14392110e+00   7.95326203e-02   2.49808227e-01\n",
      "  -8.33491243e-01   9.39273345e-02  -5.62314420e+00  -9.54705648e-01\n",
      "  -3.13334316e-02   5.91319144e-01  -5.21128121e-01   5.22184194e-01\n",
      "  -1.00642560e+00  -3.66259233e-01  -2.47909630e+00  -2.73116586e+00\n",
      "  -6.42341671e-01  -1.30587803e+00  -9.27676151e-01  -1.16786328e-01\n",
      "  -8.36305439e-01   2.35186878e+00  -3.45157626e-01  -1.82027808e+00\n",
      "  -5.18730042e+00  -3.54431447e-01  -7.12934707e-01  -1.37967226e-01\n",
      "  -5.46147716e-01   2.11437421e-01  -3.33775184e-01   5.41839569e-01\n",
      "  -4.08887068e+00   1.26995509e+00  -2.18768479e-02  -7.22647775e-03\n",
      "  -3.70745938e-01  -2.00165909e-01  -1.13787345e+00  -6.61077027e-01\n",
      "  -5.98855247e-01   9.95089517e-02  -1.23079953e+00   9.19343748e-03\n",
      "  -7.45598940e-01   6.04335816e-03  -3.40342038e+00  -9.98364996e-01\n",
      "  -2.89106025e+00   3.39114029e-01   1.43576039e+00   6.95395169e-01\n",
      "  -3.85125795e+00   4.15739826e-01  -1.40343900e+00  -1.12637041e-02\n",
      "  -6.21024365e-01   6.41260583e-01  -1.22296997e+00   1.17170090e+00\n",
      "  -4.98184449e-02   1.32973154e-01  -2.78286448e+00  -7.25498610e-01\n",
      "  -9.12227806e-01  -3.53793645e+00  -2.45966678e+00   3.36152880e-02\n",
      "  -1.84434830e+00  -4.29396651e+00   1.91540112e+00   8.49952168e-03\n",
      "  -3.73993452e+00  -4.58540542e+00   1.81470840e-01  -4.52797621e-02\n",
      "  -1.23503294e-01  -2.15559600e+00   1.63360808e-01  -3.28680553e+00\n",
      "  -3.00749132e+00  -3.53278758e+00   1.63984459e-01  -1.22177780e+00\n",
      "  -1.20526045e+00  -2.20042606e-01   1.04068922e+00   1.33794853e+00\n",
      "   3.06379015e-01  -1.91152124e-02  -2.03819074e-01  -4.74933404e+00\n",
      "   3.77545834e-02  -1.08417401e+00  -3.77694946e-01  -1.88932390e+00\n",
      "   5.21649289e-01   3.99248350e-01  -1.04861666e-01   5.85465410e+00\n",
      "   1.85654166e+00  -1.00986050e+00  -4.88872779e-01  -3.46934889e+00\n",
      "  -5.83056251e+00  -1.54117261e-01  -9.22309149e-01  -1.20872612e+00\n",
      "   6.75625025e-02  -1.49906408e+00   4.09991982e-02  -4.69835619e+00\n",
      "  -8.35538658e-01   3.84663389e+00  -1.77254943e+00  -7.76979792e-02\n",
      "  -4.85856248e-01  -1.85480445e-01  -1.29850315e+00   8.39563585e-01\n",
      "  -4.23687366e-01  -1.56692688e-01  -4.58764975e-01   4.69489680e-01\n",
      "   2.28938406e-01  -9.77603312e-01   7.74139469e-02   2.86127894e-02\n",
      "   1.02537070e+00  -4.15503927e+00  -5.29433274e-02  -7.11270359e-01\n",
      "  -4.47675456e-01  -5.74051502e-01  -2.72064320e-02  -2.54802752e-01\n",
      "  -1.78921835e-01  -6.96862324e-01  -9.27303126e-03  -2.36814148e-01\n",
      "  -2.71532860e+00  -9.18571905e-03   2.01814640e-01  -2.24881931e-02\n",
      "  -3.29478564e-01  -1.20925294e+00  -1.98722836e-01   3.09620498e-01\n",
      "  -7.71717567e-02   2.04575420e-01  -2.01161147e+00  -3.23727871e+00\n",
      "   1.43882315e+00  -1.05650874e+00   2.63422927e-01  -1.45804123e-02\n",
      "  -2.10007916e+00  -2.32414763e+00  -2.17660558e+00  -5.54128449e-01\n",
      "   3.23970121e+00  -6.33596044e-01   3.12420237e-01   6.64157072e-01\n",
      "  -1.32087349e+00  -9.99971964e-03  -3.71699610e-01  -1.86576163e+00\n",
      "  -1.36910419e-01  -2.63873313e+00  -1.83035421e+00  -1.93316711e-01\n",
      "  -2.91974277e+00  -4.88295942e+00  -5.31148776e-01  -2.63787476e+00\n",
      "   4.52839420e-01  -5.90803755e-02   5.26840102e-01  -1.19703918e-01\n",
      "   2.42184015e-01   7.47781719e-01   1.80363661e+00  -7.32809312e-02\n",
      "  -1.82367152e+00  -4.77648205e+00  -5.30039707e-01  -6.17691568e-01\n",
      "  -1.81739681e+00  -8.21322056e-01   1.76232459e+00  -2.06730803e+00\n",
      "  -3.08516309e+00  -4.03975150e+00  -3.58673066e+00  -9.51286535e-03\n",
      "   3.49965337e-01  -1.03064252e+00  -7.42108510e-01  -1.57314697e+00\n",
      "  -9.58968563e-01  -2.38867750e+00   3.30290607e-02  -7.93823201e-01\n",
      "  -2.54949242e+00  -1.64463893e-01  -4.94880701e-02  -1.34982616e+00\n",
      "   6.10815828e-01   1.82957942e-01  -9.36335199e-02  -7.59240202e-01\n",
      "   1.32147564e-01   1.40394404e-01   1.77604633e+00  -3.62231993e-01\n",
      "   6.44527126e-01  -3.15475436e-01  -6.74641904e-01   1.04435898e+00\n",
      "   7.39401018e-01  -4.83793531e+00   2.62930695e-01  -9.63091288e-01\n",
      "  -6.05199812e-02   3.97021906e-02   1.52438476e+00   1.44808940e+00\n",
      "  -4.04958059e-01  -1.06735588e+00  -1.09984277e-02  -1.18496807e-01\n",
      "  -2.68289320e-01  -1.73228406e+00  -1.34902035e+00  -9.19574533e-01\n",
      "  -1.75126436e+00  -7.79621011e-01   3.27464483e-01   2.63719089e+00\n",
      "  -8.18431532e-01   2.14515667e-01  -5.13915817e-01  -2.86234008e-01\n",
      "  -3.00499666e+00  -9.58930868e-01  -2.59415281e+00   9.06647915e-05\n",
      "  -2.14901670e-01  -3.92305110e-01  -7.50750386e-01   1.06869260e-01\n",
      "   8.80813396e-01  -1.80712765e-01  -4.02267472e+00  -5.20790000e-01\n",
      "  -2.70119744e+00  -9.11102516e-01  -8.71350403e-02   6.38568227e-02\n",
      "   2.38134501e-01  -1.30978749e+00  -1.22708133e+00   2.03665931e-01\n",
      "   8.96277804e-01  -4.16332147e+00  -2.97373002e+00  -4.57445188e+00\n",
      "  -1.30519840e+00  -4.67724610e+00   1.07264057e+00  -4.41729978e-01\n",
      "  -2.83393403e+00  -7.18574233e-01   6.07626780e-02  -3.76174450e+00\n",
      "   1.25635340e+00  -6.79421883e-03  -6.28319681e+00   1.41815043e+00\n",
      "  -3.34754775e-01  -7.78332301e-02  -7.66783610e-01   1.30472800e+00\n",
      "  -5.66979353e-01  -1.72951124e+00   3.88735114e-02   1.38394217e-01\n",
      "  -2.56549134e+00  -1.31067455e-01  -2.91135734e-01  -3.37907870e+00\n",
      "   1.03363715e+00  -7.62311745e-01  -7.44965389e-01  -6.63719589e-01\n",
      "   3.17992596e-01  -1.24051665e+00  -6.56400977e-01   2.16614175e-01\n",
      "  -6.40885510e+00  -7.20034531e-01  -2.64661724e+00   1.31540417e-01\n",
      "  -5.89935448e-02  -5.33372378e-01  -2.18593599e+00  -1.90326018e-02\n",
      "  -9.21438732e-02  -1.11113953e+00   3.71987321e-01  -1.43658092e-01\n",
      "   3.97120686e-02  -2.11735171e+00  -2.66992713e-01  -1.63457361e-01\n",
      "  -4.10654413e-01  -9.20265262e-01  -4.20941380e+00  -4.88175003e-01\n",
      "  -4.88747269e+00  -3.86051939e-01  -1.91291737e-01  -3.19480790e+00\n",
      "  -4.25236496e-02  -7.75213731e+00  -1.25535383e+00  -8.13366052e-01\n",
      "   5.09052787e-01  -1.20753215e+00  -2.93014028e+00  -4.52219963e-01\n",
      "  -4.65863535e-01  -3.84640263e-01  -6.96682319e+00  -1.81545830e+00\n",
      "  -4.81397111e-01  -6.43029473e+00  -4.70690678e-02   1.23094041e-01\n",
      "  -8.52226938e-02  -1.29404012e+00  -2.76797395e-02   5.16410078e-01\n",
      "  -4.70973814e-01   5.55645241e-02  -6.37306509e-01   3.94960981e-01\n",
      "   1.37595503e-01  -3.75242316e-01   1.15009263e-02  -3.83211396e+00\n",
      "  -4.20872208e-01  -4.30612598e-01  -4.02209184e-01  -8.40586043e+00\n",
      "  -6.84525110e-02  -1.32915390e+00  -9.00529957e-01  -6.62568324e-01\n",
      "  -8.33206344e-01  -5.11695949e+00  -1.23992435e-01  -2.15535781e+00\n",
      "  -3.77594850e-01  -2.48844970e+00  -7.67916250e-01  -1.02226484e+00\n",
      "   8.36919530e-02  -8.55655897e-01   6.69824416e-01   1.37280124e-01\n",
      "   5.10303699e-01  -8.70516092e-01  -1.23461054e+00   1.45546934e+00\n",
      "   1.21652593e+00   7.72525615e-01  -2.36152977e+00  -8.22935931e+00\n",
      "  -1.30041056e+00  -1.49912774e+00]\n",
      "1937.09048387\n"
     ]
    }
   ],
   "source": [
    "#5-2\n",
    "import statsmodels.api as sm \n",
    "\n",
    "mse = 0\n",
    "\n",
    "model = sm.OLS(y_train, X_train)\n",
    "results = model.fit()\n",
    "\n",
    "mse = np.mean((results.predict(X_train) - y_train) ** 2)\n",
    "\n",
    "\n",
    "print(mse)\n",
    "\n",
    "index = []\n",
    "#print len(X_train)\n",
    "training_data = X_train[:,0]\n",
    "\n",
    "for i in range(len(cof)):\n",
    "    if cof[i] != 0:\n",
    "        index.append(i)\n",
    "        #trainning_data.append(X_train[:,i])\n",
    "        #print X_train[:,i].shape\n",
    "        training_data = np.vstack((training_data, X_train[:,i]))\n",
    "training_data = training_data.T\n",
    "print(training_data[:,] - X_train[:,i])\n",
    "training_data = training_data[:,1:]\n",
    "model2 = sm.OLS(y_train, training_data)\n",
    "results2 = model2.fit()\n",
    "\n",
    "mse2 = np.mean((results2.predict(training_data) - y_train) ** 2)\n",
    "\n",
    "print(mse2)\n",
    "\n",
    "\n",
    "    \n",
    "        \n",
    "        \n",
    "\n"
   ]
  },
  {
   "cell_type": "markdown",
   "metadata": {
    "ein.tags": "worksheet-0",
    "slideshow": {
     "slide_type": "-"
    }
   },
   "source": [
    "# Question 2: Bias-Variance Tradeoff (5 points)\n",
    "\n",
    "1. Describe the relationship between Ordinary Least Squares and Ridge Regression (the problem analyzed in the previous question) with reference to Bias-Variance trade-off.\n",
    "3. Which is a higher variance model, kNN with k = 1 or with k = 10?"
   ]
  },
  {
   "cell_type": "markdown",
   "metadata": {
    "ein.tags": "worksheet-0",
    "slideshow": {
     "slide_type": "-"
    }
   },
   "source": [
    "# Question 3 - Principal Component Analysis (15 points)\n",
    "\n",
    "Import the same dataset with the interaction variables as in Q1."
   ]
  },
  {
   "cell_type": "code",
   "execution_count": 1,
   "metadata": {
    "autoscroll": false,
    "ein.tags": "worksheet-0",
    "slideshow": {
     "slide_type": "-"
    }
   },
   "outputs": [],
   "source": [
    "% matplotlib inline\n",
    "\n",
    "import numpy as np\n",
    "import pandas as pd\n",
    "from sklearn import datasets, linear_model\n",
    "from sklearn.metrics import mean_squared_error\n",
    "\n",
    "from matplotlib import pyplot as plt"
   ]
  },
  {
   "cell_type": "code",
   "execution_count": 2,
   "metadata": {
    "autoscroll": false,
    "ein.tags": "worksheet-0",
    "slideshow": {
     "slide_type": "-"
    }
   },
   "outputs": [],
   "source": [
    "df = pd.read_csv('dow_jones_index.data')\n",
    "df = df.dropna()\n",
    "X = df[[u'open', u'high', u'low', u'close',\n",
    "       u'volume', u'percent_change_price',\n",
    "       u'percent_change_volume_over_last_wk', u'previous_weeks_volume', u'next_weeks_close',\n",
    "       u'percent_change_next_weeks_price', u'days_to_next_dividend',\n",
    "       u'percent_return_next_dividend']]\n",
    "X = X.as_matrix()\n",
    "\n",
    "for feat in range(X.shape[1]):\n",
    "    try:\n",
    "        if \"$\" in X[0, feat]:\n",
    "            X[:,feat] = [i.split(\"$\")[1] for i in X[:,feat]]\n",
    "    except:\n",
    "        pass\n",
    "X = X.astype('float')\n",
    "X = (X - np.mean(X, axis=0))/np.std(X, axis=0)\n",
    "\n",
    "y = df[[u'next_weeks_open']]\n",
    "y = y.as_matrix()\n",
    "y = [i.split(\"$\")[1] for i in y[:, 0]]\n",
    "y = np.array(y)\n",
    "y = y.astype('float')"
   ]
  },
  {
   "cell_type": "code",
   "execution_count": 14,
   "metadata": {
    "autoscroll": false,
    "ein.tags": "worksheet-0",
    "slideshow": {
     "slide_type": "-"
    }
   },
   "outputs": [],
   "source": [
    "from sklearn.preprocessing import PolynomialFeatures\n",
    "X = PolynomialFeatures(2, include_bias=False).fit_transform(X)"
   ]
  },
  {
   "cell_type": "code",
   "execution_count": 15,
   "metadata": {
    "autoscroll": false,
    "ein.tags": "worksheet-0",
    "slideshow": {
     "slide_type": "-"
    }
   },
   "outputs": [],
   "source": [
    "from sklearn.model_selection import train_test_split\n",
    "X_train, X_test, y_train, y_test = train_test_split(X,y,test_size = 0.33, random_state=20)"
   ]
  },
  {
   "cell_type": "markdown",
   "metadata": {
    "ein.tags": "worksheet-0",
    "slideshow": {
     "slide_type": "-"
    }
   },
   "source": [
    "(a) Perform PCA using the sklearn [PCA](http://scikit-learn.org/stable/modules/generated/sklearn.decomposition.PCA.html) package.  Create i) a scree plot depicting the proportion of variance and ii) a cumulative proportion of variance explained by the principal components of the data (X_train matrix).  Refer to Figure 10.4 of JW for an example.  You may use the output attribute *explained variance ratio*. How many principal components (N1, N2, N3) are required to explain cumulative variance of 90%, 95%, and 99%, respectively? (6 pts)\n",
    "\n",
    "(c) Fit an ordinary least squares linear regression using N1, N2, and N3 number of principal components, respectively. Fit PCA on X_train and predict on X_test. Compare the test MSE using N1, N2, N3 to using all features from PCA (6 pts)\n",
    "\n",
    "(d) Compare this to the MSE reported in Q1.For this dataset, would you use PCA/Lasso as a feature elimination technique based on: (3 pts)\n",
    "i) Interpretability of results\n",
    "ii) MSE value\n",
    "iii) Hyperparameter tuning?\n",
    "\n",
    "## Answer"
   ]
  },
  {
   "cell_type": "markdown",
   "metadata": {
    "ein.tags": "worksheet-0",
    "slideshow": {
     "slide_type": "-"
    }
   },
   "source": [
    "# Question 4 - Sampling (3+2=5pts)\n",
    "\n",
    "1 . Your firm is conducting a customer survey for a new product. You are tasked with estimating whether the product will be liked or disliked by the entire market. Unfortunately, you cannot reach all the customers. So you randomly sample 400 participants and ask them \"Will you like the product\" as a question. The responses are evenly split. But you attended a Data Mining course, so you know the estimate is not simply 50%. \n",
    "   \n",
    "What are the lower and upper bounds of probability corresponding to a confidence of 99% ($\\alpha = 0.99$)?\n",
    "\n",
    "\n",
    "2 . Your manager asks you to halve the probability range you reported in part 1. This can be accomplished in two different ways:\n",
    "\n",
    "    a) Reduce the confidence without going below 90%. \n",
    "    OR\n",
    "    b) Conduct a new survey to acquire more samples. In this case let us assume that the results are again evenly split.\n",
    "    \n",
    "Which option is viable? If a), what is the highest confidence you can use? And if b), how many samples do you need?\n",
    "\n",
    "## Answer"
   ]
  },
  {
   "cell_type": "markdown",
   "metadata": {
    "ein.tags": "worksheet-0",
    "slideshow": {
     "slide_type": "-"
    }
   },
   "source": [
    "# Question 5: Ridge and Lasso Regression (15 points)\n",
    "The ridge regression problem is characterized by the following loss function:\n",
    "$$\\mathcal{L}(\\beta) = ||X \\beta - y||_2^2 + \\lambda ||\\beta||^2_2$$\n",
    "\n",
    "The ridge regression problem is the case where the penalty term ($\\lambda ||\\beta||$) uses the squared l-2 norm ($\\lambda ||\\beta||^2$).\n",
    "\n",
    "a) Find the closed form solution to the ridge regresion problem\n",
    "$$\\underset{\\beta}{\\mathrm{argmin}} \\mathcal{L}(\\beta)$$\n",
    "where $\\mathcal{L}(\\beta)$ is the loss function above.\n",
    "\n",
    "b) Now given the SVD of $X$ as $U \\Sigma V^T$, express $X \\hat \\beta_{ridge}$ in terms of $U$, $V$ and $\\Sigma$\n",
    "\n",
    "c) Explain what the expression for $X \\hat \\beta_{ridge}$ derived above tells us about how the addition of the regularization term affects the solution. (Hint: think about $\\lambda ||\\beta||^2$ as a penalty term)\n",
    "\n",
    "# Answer"
   ]
  },
  {
   "cell_type": "markdown",
   "metadata": {
    "ein.tags": "worksheet-0",
    "slideshow": {
     "slide_type": "-"
    }
   },
   "source": [
    "# Question 6 - Outliers and Huber Loss (12 pts)\n",
    "\n",
    "In this problem, we will use the same data set from the previous problem set to fit a linear model to the data using a Huber loss function rather than the l-2 norm usually used in OLS. sklearn has a nice API you can use: [http://scikit-learn.org/stable/modules/generated/sklearn.linear_model.HuberRegressor.html#sklearn-linear-model-huberregressor](http://scikit-learn.org/stable/modules/generated/sklearn.linear_model.HuberRegressor.html#sklearn-linear-model-huberregressor)\n",
    "\n",
    "Below is a snippet from the previous problem set to help you get started. For this problem, the only independent variable will be the \"percent\\_change\\_price\" feature.\n"
   ]
  },
  {
   "cell_type": "code",
   "execution_count": null,
   "metadata": {
    "autoscroll": false,
    "ein.tags": "worksheet-0",
    "slideshow": {
     "slide_type": "-"
    }
   },
   "outputs": [],
   "source": [
    "import pandas as pd\n",
    "import numpy as np\n",
    "from sklearn import linear_model\n",
    "from sklearn.metrics import mean_squared_error\n",
    "\n",
    "df = pd.read_csv('dow_jones_index.data')\n",
    "stock = df[[\"percent_change_price\", \"next_weeks_open\"]]\n",
    "stock = stock.dropna()\n",
    "stock = stock.as_matrix()[1:]\n",
    "stock[:, 1] = [i.split(\"$\")[1] for i in stock[:, 1]]\n",
    "stock = stock.astype('float')\n",
    "stock[:, 0] = (stock[:, 0] - np.mean(stock[:, 0], axis=0))/np.std(stock[:, 0], axis=0)\n",
    "\n",
    "X = stock[:,:1]\n",
    "y = stock[:, 1]\n",
    "X_train = X[:400,]\n",
    "y_train = y[:400]\n",
    "\n",
    "X_test = X[400:,]\n",
    "y_test = y[400:,]\n",
    "\n",
    "clf_train = linear_model.LinearRegression()\n",
    "clf_train.fit(X_train, y_train)\n",
    "predictions_train = clf_train.predict(X_train)\n",
    "mse_train = mean_squared_error(y_train, predictions_train)\n",
    "print('MSE train: ', mse_train)\n",
    "\n",
    "predictions_test = clf_train.predict(X_test)\n",
    "mse_test = mean_squared_error(y_test, predictions_test)\n",
    "print('MSE test: ', mse_test)"
   ]
  },
  {
   "cell_type": "markdown",
   "metadata": {
    "ein.tags": "worksheet-0",
    "slideshow": {
     "slide_type": "-"
    }
   },
   "source": [
    "a) Now do the same for the Huber loss function and print the test and train MSE. Use a regularization coefficient of 0. (5 pts)"
   ]
  },
  {
   "cell_type": "code",
   "execution_count": null,
   "metadata": {
    "autoscroll": false,
    "ein.tags": "worksheet-0",
    "slideshow": {
     "slide_type": "-"
    }
   },
   "outputs": [],
   "source": [
    "# ANSWER"
   ]
  },
  {
   "cell_type": "markdown",
   "metadata": {
    "ein.tags": "worksheet-0",
    "slideshow": {
     "slide_type": "-"
    }
   },
   "source": [
    "Now let's artificially introduce some errors intro the train set:"
   ]
  },
  {
   "cell_type": "code",
   "execution_count": null,
   "metadata": {
    "autoscroll": false,
    "ein.tags": "worksheet-0",
    "slideshow": {
     "slide_type": "-"
    }
   },
   "outputs": [],
   "source": [
    "y_train_outliers = np.copy(y_train)\n",
    "y_train_outliers[0] = 10000.0"
   ]
  },
  {
   "cell_type": "markdown",
   "metadata": {
    "ein.tags": "worksheet-0",
    "slideshow": {
     "slide_type": "-"
    }
   },
   "source": [
    "Note that we would never actually do this in a real application, this is simply for demo purposes.\n",
    "\n",
    "b) Now create two models as before, but using the new y vector during training (one model using OLS and another using the Huber loss). Print the test and train MSE. Use a regularization coefficient of 0. (5 pts)"
   ]
  },
  {
   "cell_type": "code",
   "execution_count": 1,
   "metadata": {
    "autoscroll": false,
    "ein.tags": "worksheet-0",
    "slideshow": {
     "slide_type": "-"
    }
   },
   "outputs": [],
   "source": [
    "# ANSWER"
   ]
  },
  {
   "cell_type": "markdown",
   "metadata": {
    "ein.tags": "worksheet-0",
    "slideshow": {
     "slide_type": "-"
    }
   },
   "source": [
    "c) Explain the difference in prediction performance of the two models in these two scenarios (one without significant outliers in the data, and the other with a single outlier). (2 pts)"
   ]
  }
 ],
 "metadata": {
  "kernelspec": {
   "display_name": "Python 2",
   "language": "python",
   "name": "python2"
  },
  "language_info": {
   "codemirror_mode": {
    "name": "ipython",
    "version": 2
   },
   "file_extension": ".py",
   "mimetype": "text/x-python",
   "name": "python",
   "nbconvert_exporter": "python",
   "pygments_lexer": "ipython2",
   "version": "2.7.14"
  },
  "name": "EE380L_HW2.ipynb"
 },
 "nbformat": 4,
 "nbformat_minor": 1
}
