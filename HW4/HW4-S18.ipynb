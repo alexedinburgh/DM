{
 "cells": [
  {
   "cell_type": "markdown",
   "metadata": {
    "collapsed": true,
    "ein.tags": "worksheet-0",
    "slideshow": {
     "slide_type": "-"
    }
   },
   "source": [
    "\n",
    "# <p style=\"text-align: center;\">EE 380L: Data Mining</p>\n",
    "# <p style=\"text-align: center;\">Assignment 4</p>\n",
    "## <p style=\"text-align: center;\">Total points: 70</p>\n",
    "## <p style=\"text-align: center;\">Due: Thursday, April 5th, submitted via Canvas by 11:59 pm</p>\n",
    "\n",
    "Your homework should be written in a **Jupyter notebook**. You may work in groups of two if you wish. Only one student per team needs to submit the assignment on Canvas.  But be sure to include name and UTID for both students.  Homework groups will be created and managed through Canvas, so please do not arbitrarily change your homework group.  \n",
    "\n",
    "Also, please make sure your code runs and the graphics (and anything else) are displayed in your notebook before submitting. (%matplotlib inline)"
   ]
  },
  {
   "cell_type": "markdown",
   "metadata": {
    "ein.tags": "worksheet-0",
    "slideshow": {
     "slide_type": "-"
    }
   },
   "source": [
    "## Name: Xiaocheng Shen\n",
    "## UT EID: xs2948\n",
    "\n",
    "## Name: Dawei Liang\n",
    "## UT EID: dl33629"
   ]
  },
  {
   "cell_type": "markdown",
   "metadata": {},
   "source": [
    "### Note: Q1 and Q3 may take a long time to run (a few hours). It will be more convenient if you run them on a powerful machine. Of course, this is also a good opportunity to use the Azure cloud."
   ]
  },
  {
   "cell_type": "markdown",
   "metadata": {
    "ein.tags": "worksheet-0",
    "slideshow": {
     "slide_type": "-"
    }
   },
   "source": [
    "# Question 1:  2 class Classification (30 pts)\n",
    "\n",
    "In this problem, you will evaluate the performance of 6 classifiers in classifying signal vs background in the MAGIC Gamma Telescope Data Set. The data has been split into training and test as well as standardized for you. \n",
    "You will train the following models on this dataset:\n",
    "\n",
    "1. Gaussian Naive Bayes (http://scikit-learn.org/stable/modules/generated/sklearn.naive_bayes.GaussianNB.html)\n",
    "2. Linear Discriminant Analysis (http://scikit-learn.org/stable/modules/lda_qda.html)\n",
    "3. Quadratic Discriminant Analysis\n",
    "4. Logistic Regression (http://scikit-learn.org/stable/modules/generated/sklearn.linear_model.LogisticRegressionCV.html)\n",
    "5. Linear SVM (http://scikit-learn.org/stable/modules/generated/sklearn.svm.SVC.html#sklearn.svm.SVC)\n",
    "6. Radial Basis Function SVM. \n",
    "\n",
    "For Logistic Regression, you will have to run kFold cross validation with 5 folds to get the best value of C. C is the inverse of the regularization hyper-parameter.\n",
    "For SVM (linear and rbf), you will use GridSearchCV (http://scikit-learn.org/stable/modules/generated/sklearn.grid_search.GridSearchCV.html) with cv set to 5, to identify the correct value of C. Use `Cs = 10**np.linspace(-2, 2, 10)` as the range of C for SVM gridsearch\n",
    "\n",
    "Note: Maintain all other parameters at their default settings.\n",
    "\n",
    "The deliverables for this Problem are the following:\n",
    "1. Use cross validation to find the best C for logistic regression, linear SVM and rbf SVM. (C means different things for each of the models. Please refer the documentation of each API in sklearn for this) (9 points - 3 points per model)\n",
    "2. Report the Mean Error Rate = (1 - model_score) for each of these 3 models. (9 points - 3 points per model)\n",
    "3. Train all 6 models using the best C for logistic regression, linear SVM and rbf SVM. Plot the ROC curve for each of these in one figure. Report the area under the curve (AUC) and accuracy for all 6. (12 points)\n",
    "\n",
    "Note: SVM by default only learns a decision function. In order to obtain ROC curve, you will need prediction probabilities as well. This will require you to set probability=True when training SVM models.\n",
    "\n",
    "Note: It is a good idea to measure the time taken to run the fit function for each hyperparameter setting to estimate the time for gridSearchCv on a range of hyperparameters."
   ]
  },
  {
   "cell_type": "code",
   "execution_count": 8,
   "metadata": {
    "autoscroll": false,
    "collapsed": true,
    "ein.tags": "worksheet-0",
    "slideshow": {
     "slide_type": "-"
    }
   },
   "outputs": [],
   "source": [
    "%matplotlib inline\n",
    "import pandas as pd\n",
    "from sklearn.model_selection import train_test_split\n",
    "from sklearn.metrics import roc_curve, roc_auc_score, auc\n",
    "from sklearn.naive_bayes import GaussianNB\n",
    "from sklearn.discriminant_analysis import LinearDiscriminantAnalysis as LDA\n",
    "from sklearn.discriminant_analysis import QuadraticDiscriminantAnalysis as QDA\n",
    "from sklearn import preprocessing\n",
    "from sklearn.model_selection import KFold\n",
    "from sklearn.linear_model import LogisticRegressionCV, LogisticRegression\n",
    "from sklearn.svm import SVC\n",
    "from sklearn.model_selection import GridSearchCV\n",
    "import numpy as np\n",
    "import matplotlib.pyplot as plt"
   ]
  },
  {
   "cell_type": "code",
   "execution_count": 3,
   "metadata": {
    "autoscroll": false,
    "ein.tags": "worksheet-0",
    "slideshow": {
     "slide_type": "-"
    }
   },
   "outputs": [
    {
     "name": "stderr",
     "output_type": "stream",
     "text": [
      "/Users/xiaochengshen/anaconda2/lib/python2.7/site-packages/sklearn/utils/validation.py:475: DataConversionWarning: Data with input dtype object was converted to float64 by the scale function.\n",
      "  warnings.warn(msg, DataConversionWarning)\n"
     ]
    }
   ],
   "source": [
    "# load data\n",
    "# train\n",
    "train = pd.read_csv('magic_train.csv', header=None)\n",
    "y_train = train.values[:,10]\n",
    "y_train[y_train == 'g'] = 0\n",
    "y_train[y_train == 'h'] = 1\n",
    "y_train = y_train.astype(float)\n",
    "X_train = train.values[:,:10]\n",
    "\n",
    "# test\n",
    "test = pd.read_csv('magic_test.csv', header=None)\n",
    "y_test = test.values[:,10]\n",
    "y_test[y_test == 'g'] = 0\n",
    "y_test[y_test == 'h'] = 1\n",
    "y_test = y_test.astype(float)\n",
    "X_test = test.values[:,:10]\n",
    "\n",
    "# standardize the data\n",
    "X_train = preprocessing.scale(X_train)\n",
    "X_test = preprocessing.scale(X_test)"
   ]
  },
  {
   "cell_type": "code",
   "execution_count": 4,
   "metadata": {},
   "outputs": [
    {
     "name": "stdout",
     "output_type": "stream",
     "text": [
      "C Parameter is: 0.3594\n",
      "{'kernel': 'linear', 'C': 0.027825594022071243}\n",
      "{'kernel': 'rbf', 'C': 100.0}\n"
     ]
    }
   ],
   "source": [
    "fold = KFold(n_splits=5, shuffle=False, random_state=None).get_n_splits(y_train.shape[0])\n",
    "lrcv = LogisticRegressionCV(cv = fold)\n",
    "lr_model = lrcv.fit(X_train, y_train)\n",
    "print(\"C Parameter is: %.4f\" % lr_model.C_)\n",
    "\n",
    "\n",
    "parameters = {'kernel':['linear'], 'C':10**np.linspace(-2, 2, 10)}\n",
    "clf = GridSearchCV(SVC(kernel='linear'), parameters, cv = fold)\n",
    "model1 = clf.fit(X_train, y_train)\n",
    "print(model1.best_params_)\n",
    "\n",
    "parameters = {'kernel':['rbf'], 'C':10**np.linspace(-2, 2, 10)}\n",
    "clf = GridSearchCV(SVC(kernel='linear'), parameters, cv = fold)\n",
    "model2 = clf.fit(X_train, y_train)\n",
    "print(model2.best_params_)"
   ]
  },
  {
   "cell_type": "code",
   "execution_count": 5,
   "metadata": {},
   "outputs": [
    {
     "name": "stdout",
     "output_type": "stream",
     "text": [
      "LR, In training set, the mean error rate is: 0.2117\n",
      "LR, In testing set, the mean error rate is: 0.2039\n",
      "SVC(linear), In training set, the mean error rate is: 0.2130\n",
      "SVC(linear), In testing set, the mean error rate is: 0.2022\n",
      "SVC(rbf), In training set, the mean error rate is: 0.0943\n",
      "SVC(rbf), In testing set, the mean error rate is: 0.1293\n"
     ]
    }
   ],
   "source": [
    "print (\"LR, In training set, the mean error rate is: %.4f\"  %(1 - lr_model.score(X_train, y_train)))\n",
    "print (\"LR, In testing set, the mean error rate is: %.4f\"  %(1 - lr_model.score(X_test, y_test)))\n",
    "\n",
    "print (\"SVC(linear), In training set, the mean error rate is: %.4f\"  %(1 - model1.score(X_train, y_train)))\n",
    "print (\"SVC(linear), In testing set, the mean error rate is: %.4f\"  %(1 - model1.score(X_test, y_test)))\n",
    "\n",
    "print (\"SVC(rbf), In training set, the mean error rate is: %.4f\"  %(1 - model2.score(X_train, y_train)))\n",
    "print (\"SVC(rbf), In testing set, the mean error rate is: %.4f\"  %(1 - model2.score(X_test, y_test)))"
   ]
  },
  {
   "cell_type": "code",
   "execution_count": 11,
   "metadata": {},
   "outputs": [
    {
     "name": "stdout",
     "output_type": "stream",
     "text": [
      "LR, Area under ROC: 0.7511\n",
      "LR, mean acc: 0.7961\n"
     ]
    },
    {
     "data": {
      "image/png": "[encoded data removed]",
      "text/plain": [
       "<matplotlib.figure.Figure at 0x111255bd0>"
      ]
     },
     "metadata": {},
     "output_type": "display_data"
    },
    {
     "name": "stdout",
     "output_type": "stream",
     "text": [
      "SVM(linear), Area under ROC: 0.8431\n",
      "LR, mean acc: 0.7978\n"
     ]
    },
    {
     "data": {
      "image/png": "[encoded data removed]",
      "text/plain": [
       "<matplotlib.figure.Figure at 0x115826e90>"
      ]
     },
     "metadata": {},
     "output_type": "display_data"
    },
    {
     "name": "stdout",
     "output_type": "stream",
     "text": [
      "SVM(rbf), Area under ROC: 0.9258\n",
      "SVM, mean acc: 0.8707\n"
     ]
    },
    {
     "data": {
      "image/png": "[encoded data removed]",
      "text/plain": [
       "<matplotlib.figure.Figure at 0x115c00710>"
      ]
     },
     "metadata": {},
     "output_type": "display_data"
    },
    {
     "ename": "ValueError",
     "evalue": "bad input shape (5732, 2)",
     "output_type": "error",
     "traceback": [
      "\u001b[0;31m---------------------------------------------------------------------------\u001b[0m",
      "\u001b[0;31mValueError\u001b[0m                                Traceback (most recent call last)",
      "\u001b[0;32m<ipython-input-11-2587edbef313>\u001b[0m in \u001b[0;36m<module>\u001b[0;34m()\u001b[0m\n\u001b[1;32m     40\u001b[0m \u001b[0mtpr\u001b[0m \u001b[0;34m=\u001b[0m \u001b[0mdict\u001b[0m\u001b[0;34m(\u001b[0m\u001b[0;34m)\u001b[0m\u001b[0;34m\u001b[0m\u001b[0m\n\u001b[1;32m     41\u001b[0m \u001b[0mroc_auc\u001b[0m \u001b[0;34m=\u001b[0m \u001b[0mdict\u001b[0m\u001b[0;34m(\u001b[0m\u001b[0;34m)\u001b[0m\u001b[0;34m\u001b[0m\u001b[0m\n\u001b[0;32m---> 42\u001b[0;31m \u001b[0mfpr\u001b[0m\u001b[0;34m,\u001b[0m \u001b[0mtpr\u001b[0m\u001b[0;34m,\u001b[0m \u001b[0m_\u001b[0m \u001b[0;34m=\u001b[0m \u001b[0mroc_curve\u001b[0m\u001b[0;34m(\u001b[0m\u001b[0my_test\u001b[0m\u001b[0;34m,\u001b[0m \u001b[0my_score\u001b[0m\u001b[0;34m)\u001b[0m\u001b[0;34m\u001b[0m\u001b[0m\n\u001b[0m\u001b[1;32m     43\u001b[0m \u001b[0mroc_auc\u001b[0m \u001b[0;34m=\u001b[0m \u001b[0mauc\u001b[0m\u001b[0;34m(\u001b[0m\u001b[0mfpr\u001b[0m\u001b[0;34m,\u001b[0m \u001b[0mtpr\u001b[0m\u001b[0;34m)\u001b[0m\u001b[0;34m\u001b[0m\u001b[0m\n\u001b[1;32m     44\u001b[0m \u001b[0;32mprint\u001b[0m\u001b[0;34m(\u001b[0m\u001b[0;34m\"LDA, Area under ROC: %.4f\"\u001b[0m \u001b[0;34m%\u001b[0m\u001b[0mroc_auc\u001b[0m\u001b[0;34m)\u001b[0m\u001b[0;34m\u001b[0m\u001b[0m\n",
      "\u001b[0;32m/Users/xiaochengshen/anaconda2/lib/python2.7/site-packages/sklearn/metrics/ranking.pyc\u001b[0m in \u001b[0;36mroc_curve\u001b[0;34m(y_true, y_score, pos_label, sample_weight, drop_intermediate)\u001b[0m\n\u001b[1;32m    532\u001b[0m     \"\"\"\n\u001b[1;32m    533\u001b[0m     fps, tps, thresholds = _binary_clf_curve(\n\u001b[0;32m--> 534\u001b[0;31m         y_true, y_score, pos_label=pos_label, sample_weight=sample_weight)\n\u001b[0m\u001b[1;32m    535\u001b[0m \u001b[0;34m\u001b[0m\u001b[0m\n\u001b[1;32m    536\u001b[0m     \u001b[0;31m# Attempt to drop thresholds corresponding to points in between and\u001b[0m\u001b[0;34m\u001b[0m\u001b[0;34m\u001b[0m\u001b[0m\n",
      "\u001b[0;32m/Users/xiaochengshen/anaconda2/lib/python2.7/site-packages/sklearn/metrics/ranking.pyc\u001b[0m in \u001b[0;36m_binary_clf_curve\u001b[0;34m(y_true, y_score, pos_label, sample_weight)\u001b[0m\n\u001b[1;32m    320\u001b[0m     \u001b[0mcheck_consistent_length\u001b[0m\u001b[0;34m(\u001b[0m\u001b[0my_true\u001b[0m\u001b[0;34m,\u001b[0m \u001b[0my_score\u001b[0m\u001b[0;34m,\u001b[0m \u001b[0msample_weight\u001b[0m\u001b[0;34m)\u001b[0m\u001b[0;34m\u001b[0m\u001b[0m\n\u001b[1;32m    321\u001b[0m     \u001b[0my_true\u001b[0m \u001b[0;34m=\u001b[0m \u001b[0mcolumn_or_1d\u001b[0m\u001b[0;34m(\u001b[0m\u001b[0my_true\u001b[0m\u001b[0;34m)\u001b[0m\u001b[0;34m\u001b[0m\u001b[0m\n\u001b[0;32m--> 322\u001b[0;31m     \u001b[0my_score\u001b[0m \u001b[0;34m=\u001b[0m \u001b[0mcolumn_or_1d\u001b[0m\u001b[0;34m(\u001b[0m\u001b[0my_score\u001b[0m\u001b[0;34m)\u001b[0m\u001b[0;34m\u001b[0m\u001b[0m\n\u001b[0m\u001b[1;32m    323\u001b[0m     \u001b[0massert_all_finite\u001b[0m\u001b[0;34m(\u001b[0m\u001b[0my_true\u001b[0m\u001b[0;34m)\u001b[0m\u001b[0;34m\u001b[0m\u001b[0m\n\u001b[1;32m    324\u001b[0m     \u001b[0massert_all_finite\u001b[0m\u001b[0;34m(\u001b[0m\u001b[0my_score\u001b[0m\u001b[0;34m)\u001b[0m\u001b[0;34m\u001b[0m\u001b[0m\n",
      "\u001b[0;32m/Users/xiaochengshen/anaconda2/lib/python2.7/site-packages/sklearn/utils/validation.pyc\u001b[0m in \u001b[0;36mcolumn_or_1d\u001b[0;34m(y, warn)\u001b[0m\n\u001b[1;32m    612\u001b[0m         \u001b[0;32mreturn\u001b[0m \u001b[0mnp\u001b[0m\u001b[0;34m.\u001b[0m\u001b[0mravel\u001b[0m\u001b[0;34m(\u001b[0m\u001b[0my\u001b[0m\u001b[0;34m)\u001b[0m\u001b[0;34m\u001b[0m\u001b[0m\n\u001b[1;32m    613\u001b[0m \u001b[0;34m\u001b[0m\u001b[0m\n\u001b[0;32m--> 614\u001b[0;31m     \u001b[0;32mraise\u001b[0m \u001b[0mValueError\u001b[0m\u001b[0;34m(\u001b[0m\u001b[0;34m\"bad input shape {0}\"\u001b[0m\u001b[0;34m.\u001b[0m\u001b[0mformat\u001b[0m\u001b[0;34m(\u001b[0m\u001b[0mshape\u001b[0m\u001b[0;34m)\u001b[0m\u001b[0;34m)\u001b[0m\u001b[0;34m\u001b[0m\u001b[0m\n\u001b[0m\u001b[1;32m    615\u001b[0m \u001b[0;34m\u001b[0m\u001b[0m\n\u001b[1;32m    616\u001b[0m \u001b[0;34m\u001b[0m\u001b[0m\n",
      "\u001b[0;31mValueError\u001b[0m: bad input shape (5732, 2)"
     ]
    }
   ],
   "source": [
    "%matplotlib inline\n",
    "y_score = lrcv.fit(X_train, y_train).predict(X_test)\n",
    "fpr = dict()\n",
    "tpr = dict()\n",
    "roc_auc = dict()\n",
    "fpr, tpr, _ = roc_curve(y_test, y_score)\n",
    "roc_auc = auc(fpr, tpr)\n",
    "print(\"LR, Area under ROC: %.4f\" %roc_auc)\n",
    "print(\"LR, mean acc: %.4f\" %lrcv.fit(X_train, y_train).score(X_test, y_test))\n",
    "plt.plot(fpr, tpr)\n",
    "plt.show()\n",
    "\n",
    "clf_SVC1 = SVC(kernel='linear',probability=True, C= 0.027825594022071243)\n",
    "y_score = clf_SVC1.fit(X_train, y_train).predict(X_test)\n",
    "fpr = dict()\n",
    "tpr = dict()\n",
    "roc_auc = dict()\n",
    "fpr, tpr, _ = roc_curve(y_test, y_score)\n",
    "roc_auc = auc(fpr, tpr)\n",
    "print(\"SVM(linear), Area under ROC: %.4f\" %roc_auc)\n",
    "print(\"LR, mean acc: %.4f\" %clf_SVC1.fit(X_train, y_train).score(X_test, y_test))\n",
    "plt.plot(fpr, tpr)\n",
    "plt.show()\n",
    "\n",
    "clf_SVC2 = SVC(kernel='rbf',probability=True, C= 100.0)\n",
    "y_score = clf_SVC2.fit(X_train, y_train).predict(X_test)\n",
    "fpr = dict()\n",
    "tpr = dict()\n",
    "roc_auc = dict()\n",
    "fpr, tpr, _ = roc_curve(y_test, y_score)\n",
    "roc_auc = auc(fpr, tpr)\n",
    "print(\"SVM(rbf), Area under ROC: %.4f\" %roc_auc)\n",
    "print(\"SVM, mean acc: %.4f\" %clf_SVC2.fit(X_train, y_train).score(X_test, y_test))\n",
    "plt.plot(fpr, tpr)\n",
    "plt.show()\n",
    "\n",
    "clf_LDA = LDA()\n",
    "y_score = clf_LDA.fit(X_train, y_train).predict(X_test)\n",
    "fpr = dict()\n",
    "tpr = dict()\n",
    "roc_auc = dict()\n",
    "fpr, tpr, _ = roc_curve(y_test, y_score)\n",
    "roc_auc = auc(fpr, tpr)\n",
    "print(\"LDA, Area under ROC: %.4f\" %roc_auc)\n",
    "print(\"LDA, mean acc: %.4f\" %clf_LDA.fit(X_train, y_train).score(X_test, y_test))\n",
    "plt.plot(fpr, tpr)\n",
    "plt.show()\n",
    "\n",
    "clf_QDA = QDA()\n",
    "y_score = clf_QDA.fit(X_train, y_train).predict(X_test)\n",
    "fpr = dict()\n",
    "tpr = dict()\n",
    "roc_auc = dict()\n",
    "fpr, tpr, _ = roc_curve(y_test, y_score)\n",
    "roc_auc = auc(fpr, tpr)\n",
    "print(\"QDA, Area under ROC: %.4f\" %roc_auc)\n",
    "print(\"QDA, mean acc: %.4f\" %clf_QDA.fit(X_train, y_train).score(X_test, y_test))\n",
    "plt.plot(fpr, tpr)\n",
    "plt.show()\n",
    "\n",
    "GNB = GaussianNB()\n",
    "y_score = GNB.fit(X_train, y_train).predict(X_test)\n",
    "fpr = dict()\n",
    "tpr = dict()\n",
    "roc_auc = dict()\n",
    "fpr, tpr, _ = roc_curve(y_test, y_score)\n",
    "roc_auc = auc(fpr, tpr)\n",
    "print(\"GNB, Area under ROC: %.4f\" %roc_auc)\n",
    "print(\"GNB, mean acc: %.4f\" %GNB.fit(X_train, y_train).score(X_test, y_test))\n",
    "plt.plot(fpr, tpr)\n",
    "plt.show()\n"
   ]
  },
  {
   "cell_type": "code",
   "execution_count": null,
   "metadata": {
    "collapsed": true
   },
   "outputs": [],
   "source": []
  },
  {
   "cell_type": "markdown",
   "metadata": {
    "ein.tags": "worksheet-0",
    "slideshow": {
     "slide_type": "-"
    }
   },
   "source": [
    "# Question 2: Bayesian Networks (10 pts)\n",
    "In the Bayesian Network shown below, the nodes represent the following random variables: S stands for \"Smoking\", LC for \"Lung Cancer\", B for \"Bronchitis\", T for \"Tuberculosis\", D for \"Dyspnea\". The necessary conditional probabilities are provided alongside. "
   ]
  },
  {
   "cell_type": "code",
   "execution_count": 1,
   "metadata": {
    "autoscroll": false,
    "ein.tags": "worksheet-0",
    "slideshow": {
     "slide_type": "-"
    }
   },
   "outputs": [
    {
     "data": {
      "image/png": "[encoded data removed]",
      "text/plain": [
       "<IPython.core.display.Image object>"
      ]
     },
     "execution_count": 1,
     "metadata": {},
     "output_type": "execute_result"
    }
   ],
   "source": [
    "from IPython.display import Image\n",
    "Image(filename='BayesianNetworks.png')"
   ]
  },
  {
   "cell_type": "markdown",
   "metadata": {
    "ein.tags": "worksheet-0",
    "slideshow": {
     "slide_type": "-"
    }
   },
   "source": [
    "$$Pr(S = yes) = 0.1$$\n",
    "$$Pr(LC = yes | S = yes) = 0.03$$\n",
    "$$Pr(LC = yes | S = no) = 0.01$$\n",
    "$$Pr(B = yes | S = yes) = 0.06$$\n",
    "$$Pr(B = yes | S = no) = 0.02$$\n",
    "$$Pr(T = yes | LC = yes, B = yes) = 0.8$$\n",
    "$$Pr(T = yes | LC = yes, B = no) = 0.5$$\n",
    "$$Pr(T = yes | LC = no, B = yes) = 0.1$$\n",
    "$$Pr(T = yes | LC = no, B = no) = 0.04$$\n",
    "$$Pr(D = yes | T = yes, B = yes) = 0.9$$\n",
    "$$Pr(D = yes | T = yes, B = no) = 0.7$$\n",
    "$$Pr(D = yes | T = no, B = yes) = 0.65$$\n",
    "$$Pr(D = yes | T = no, B = no) = 0.015$$"
   ]
  },
  {
   "cell_type": "markdown",
   "metadata": {
    "ein.tags": "worksheet-0",
    "slideshow": {
     "slide_type": "-"
    }
   },
   "source": [
    "Compute the following probabilities:\n",
    "\n",
    "(a) (2 pts) $Pr(D = yes)$\n",
    "\n",
    "(b) (2 pts) $Pr(LC = no, B = yes, D = yes)$\n",
    "\n",
    "(c) (3 pts) Given that a person has Bronchitis (B = yes) and no Lung Cancer (LC = no), the probability he will has symptoms of Dyspnea (D = yes).\n",
    "\n",
    "(d) (3 pts) Given that a person is a smoker (S = yes), the probability he will get infected with Tuberculosis (T = yes)."
   ]
  },
  {
   "cell_type": "markdown",
   "metadata": {
    "ein.tags": "worksheet-0",
    "slideshow": {
     "slide_type": "-"
    }
   },
   "source": [
    "# Answer"
   ]
  },
  {
   "cell_type": "markdown",
   "metadata": {
    "ein.tags": "worksheet-0",
    "slideshow": {
     "slide_type": "-"
    }
   },
   "source": [
    "# Question 3: (15 pts)"
   ]
  },
  {
   "cell_type": "markdown",
   "metadata": {
    "ein.tags": "worksheet-0",
    "slideshow": {
     "slide_type": "-"
    }
   },
   "source": [
    "In this problem we will be classifying data in the CIFAR-10 dataset which contains 60000 images classified in 10 mutually exclusive classes. Please download and extract the data from https://www.cs.toronto.edu/~kriz/cifar-10-python.tar.gz\n",
    "\n",
    "For parts 1-3 we will build a classifier to determine whether an image is in class 0 or class 1. In part 4, we will classify the imges into any of 10 classes. We've included starter code to load the data from the unzipped folder.\n",
    "\n",
    "1. Train a logistic regression with almost no regularization (pass l2 (ridge) to penalty and 1,000,000 to the C parameter which is the inverse of regularization strength lambda. This essentially does l2 regularization but applies very little weight to the penalty term) and report the [confusion matrix](http://scikit-learn.org/stable/modules/generated/sklearn.metrics.confusion_matrix.html) on the test data. Also report the accuracy for the \"y = 0\" class, the \"y = 1\" class, and the average per-class accuracy on the test data. Average per-class accuracy is described in this [post](http://rasbt.github.io/mlxtend/user_guide/evaluate/scoring/). You can use your confusion matrix to calculate this.  (4pts)\n",
    "2. Repeat step 1 except use l2 penalty with Cs of [0.01, 0.1, 1, 10 ,100]. You will want to use 3-fold cross validation to select the best parameter. To evaluate which parameter is best, maximize the average per-class accuracy. To help with this task, check out [GridSearchCV](http://scikit-learn.org/stable/modules/generated/sklearn.model_selection.GridSearchCV.html#sklearn.model_selection.GridSearchCV) and how to make your own [custom scorer](http://scikit-learn.org/stable/modules/model_evaluation.html).  (4pts)\n",
    "3. Repeat question 2 except use l1 instead of l2 as the penalty type, use Cs of  [0.01, ..., 100].  Compare the performances of the models (no regularization, l2, l1) using the average per-class accuracy.  (3pts)\n",
    "4. Using the optimal regularization parameter obtained in step 2, train a logistic regression classifier with ridge penalty to clasify $\\textbf{all 10 digits}$ (digits 0,1,2,3,...9) of the MNIST dataset.  Use 'newton-cg' and 'multinomial' options for solver and multi_class parameters, respectively. Report the average per-class accuracy and confusion matrix (10 X 10) on the test data. (4pts)"
   ]
  },
  {
   "cell_type": "code",
   "execution_count": 17,
   "metadata": {
    "autoscroll": false,
    "ein.tags": "worksheet-0",
    "slideshow": {
     "slide_type": "-"
    }
   },
   "outputs": [],
   "source": [
    "import numpy as np\n",
    "import numpy.linalg as la\n",
    "import matplotlib.pyplot as plt\n",
    "import cPickle\n",
    "from sklearn.linear_model import LogisticRegression\n",
    "from sklearn.neural_network import MLPClassifier\n",
    "from sklearn.metrics import mean_squared_error, confusion_matrix\n",
    "from sklearn.model_selection import GridSearchCV\n",
    "from sklearn.metrics import accuracy_score, make_scorer\n",
    "\n",
    "def unpickle(path):\n",
    "    with open(path, 'rb') as fo:\n",
    "      data = cPickle.load(fo)\n",
    "    return data\n",
    "\n",
    "def load_data(path, test=False):\n",
    "    data = []\n",
    "    labels = []\n",
    "    if test:\n",
    "        batch = unpickle(path + '/test_batch')\n",
    "        data = batch['data']\n",
    "        labels = batch['labels']\n",
    "    else:\n",
    "        for batch_num in range(1, 5):\n",
    "            batch = unpickle(path + '/data_batch_' + str(batch_num))\n",
    "            if len(data) == 0: \n",
    "                data = batch['data']\n",
    "            else:\n",
    "                data = np.concatenate([data, batch['data']], axis=0)\n",
    "            labels += batch['labels']\n",
    "    data = np.array(data)\n",
    "    labels = np.array(labels)\n",
    "    return data, labels"
   ]
  },
  {
   "cell_type": "code",
   "execution_count": 18,
   "metadata": {
    "autoscroll": false,
    "ein.tags": "worksheet-0",
    "slideshow": {
     "slide_type": "-"
    }
   },
   "outputs": [],
   "source": [
    "all_train_data, all_train_labels = load_data('./cifar-10-batches-py')\n",
    "all_test_data, all_test_labels = load_data('./cifar-10-batches-py', test=True)\n",
    "\n",
    "two_class_train_data = all_train_data[(all_train_labels == 0) | (all_train_labels == 1)]\n",
    "two_class_train_labels = all_train_labels[(all_train_labels == 0) | (all_train_labels == 1)]\n",
    "\n",
    "two_class_test_data = all_test_data[(all_test_labels == 0) | (all_test_labels == 1)]\n",
    "two_class_test_labels = all_test_labels[(all_test_labels == 0) | (all_test_labels == 1)]\n",
    "\n",
    "X_train = (two_class_train_data / 255.)\n",
    "y_train = two_class_train_labels\n",
    "\n",
    "X_test = (two_class_test_data / 255.)\n",
    "y_test = two_class_test_labels"
   ]
  },
  {
   "cell_type": "code",
   "execution_count": 19,
   "metadata": {},
   "outputs": [
    {
     "data": {
      "text/plain": [
       "(2000,)"
      ]
     },
     "execution_count": 19,
     "metadata": {},
     "output_type": "execute_result"
    }
   ],
   "source": [
    "y_test.shape"
   ]
  },
  {
   "cell_type": "code",
   "execution_count": 20,
   "metadata": {
    "collapsed": true
   },
   "outputs": [],
   "source": [
    "X_train = X_train[np.array(range(0, 7972, 10))]\n",
    "y_train = y_train[np.array(range(0, 7972, 10))]\n",
    "\n",
    "X_test = X_test[np.array(range(0, 2000, 10))]\n",
    "y_test = y_test[np.array(range(0, 2000, 10))]"
   ]
  },
  {
   "cell_type": "code",
   "execution_count": 21,
   "metadata": {},
   "outputs": [
    {
     "name": "stdout",
     "output_type": "stream",
     "text": [
      "[[78 17]\n",
      " [30 75]]\n"
     ]
    }
   ],
   "source": [
    "lr = LogisticRegression(penalty='l2',C=1000000)\n",
    "lr_model = lr.fit(X_train, y_train)\n",
    "y_predict = lr.predict(X_test)\n",
    "matrix = confusion_matrix(y_test,y_predict)\n",
    "print(matrix)\n"
   ]
  },
  {
   "cell_type": "code",
   "execution_count": 22,
   "metadata": {},
   "outputs": [
    {
     "name": "stdout",
     "output_type": "stream",
     "text": [
      "{'penalty': 'l2', 'C': 0.01}\n",
      "[[78 17]\n",
      " [27 78]]\n"
     ]
    }
   ],
   "source": [
    "parameters = {'penalty':['l2'], 'C':[0.01,0.1,1,10,100]}\n",
    "fold = KFold(n_splits=3, shuffle=False, random_state=None).get_n_splits(y_train.shape[0])\n",
    "a = make_scorer(accuracy_score)\n",
    "clf = GridSearchCV(LogisticRegression(penalty='l2',C=1000000), parameters, cv = fold, scoring = a)\n",
    "model = clf.fit(X_train, y_train)\n",
    "print(model.best_params_)\n",
    "y_predict = clf.predict(X_test)\n",
    "matrix = confusion_matrix(y_test,y_predict)\n",
    "print(matrix)\n"
   ]
  },
  {
   "cell_type": "code",
   "execution_count": 23,
   "metadata": {},
   "outputs": [
    {
     "name": "stdout",
     "output_type": "stream",
     "text": [
      "{'penalty': 'l1', 'C': 1}\n",
      "[[75 20]\n",
      " [23 82]]\n"
     ]
    }
   ],
   "source": [
    "parameters = {'penalty':['l1'], 'C':[0.01,0.1,1,10,100]}\n",
    "fold = KFold(n_splits=3, shuffle=False, random_state=None).get_n_splits(y_train.shape[0])\n",
    "a = make_scorer(accuracy_score)\n",
    "clf = GridSearchCV(LogisticRegression(penalty='l1',C=1000000), parameters, cv = fold, scoring = a)\n",
    "model = clf.fit(X_train, y_train)\n",
    "print(model.best_params_)\n",
    "y_predict = clf.predict(X_test)\n",
    "matrix = confusion_matrix(y_test,y_predict)\n",
    "print(matrix)\n"
   ]
  },
  {
   "cell_type": "code",
   "execution_count": 24,
   "metadata": {},
   "outputs": [
    {
     "name": "stderr",
     "output_type": "stream",
     "text": [
      "/Users/xiaochengshen/anaconda2/lib/python2.7/site-packages/sklearn/utils/optimize.py:203: ConvergenceWarning: newton-cg failed to converge. Increase the number of iterations.\n",
      "  \"number of iterations.\", ConvergenceWarning)\n"
     ]
    },
    {
     "name": "stdout",
     "output_type": "stream",
     "text": [
      "[[387  62  83  39  27  46  26  60 196  74]\n",
      " [ 75 400  33  48  38  53  36  51  93 173]\n",
      " [102  38 240  85 118 103 131  87  59  37]\n",
      " [ 53  52 112 213  88 192 133  65  39  53]\n",
      " [ 55  28 161  79 252 110 135 116  32  32]\n",
      " [ 44  42 106 190  89 266  96  81  48  38]\n",
      " [ 23  38 105 126 107  93 379  57  31  41]\n",
      " [ 54  51  84  79  98 100  53 374  44  63]\n",
      " [153  82  36  33  26  52  15  22 477 104]\n",
      " [ 95 179  30  33  29  39  41  75 105 374]]\n"
     ]
    }
   ],
   "source": [
    "lr = LogisticRegression(penalty='l2',C=0.01,solver='newton-cg',multi_class = 'multinomial')\n",
    "lr_model = lr.fit(all_train_data, all_train_labels)\n",
    "y_predict = lr.predict(all_test_data)\n",
    "matrix = confusion_matrix(all_test_labels,y_predict)\n",
    "print(matrix)\n"
   ]
  },
  {
   "cell_type": "markdown",
   "metadata": {
    "ein.tags": "worksheet-0",
    "slideshow": {
     "slide_type": "-"
    }
   },
   "source": [
    "# Answer"
   ]
  },
  {
   "cell_type": "markdown",
   "metadata": {},
   "source": [
    "# Question 4: (10 pts)\n",
    "In this problem, we will perform some very basic image recovery using linear regression. The main purpose of this example is to set up the Azure cloud and get acquainted with the environment. Download the dataset on the remote machine into the same folder as this notebook.\n",
    "\n",
    "This part of the homework must be run on the azure cloud machine. We will doublecheck that everyone has used at least a portion of their allocated resources to ensure that everyone has successfully set up the VM.\n",
    "\n",
    "### Using Linear Regression for Image Recovery\n",
    "Given a set of uncorrupted images, $X$, and a single corrupted image $y$, we can find a linear combination of the images in the dataset which best reproduce the corrupted image. This sounds like a regression problem! \n",
    "\n",
    "Obviously, if we perfectly reproduce the corrupted image, then we haven't done a good job recovering the original image. However, if we introduce a penalty on the number of images used in the solution, then we can reproduce a decent approximation of the original image.\n",
    "\n",
    "After finding a linear combination of the images $\\beta$, $X\\beta$ will give us our recovered image (this is done for you in the `recover` function below). Once again, for the result to be an acceptable recovery of the image $X\\beta$ should not exactly equal $y$ since $y$ is the corrupted image.\n",
    "\n",
    "Each image is flattened into a vector of lengh 4096 (each image is 64x64) and the columns of $X$ correspond to the uncorrupted images in the dataset. You can think of the uncorrupted images in the dataset as the features.\n",
    "\n",
    "The starter code we have provided below does most of the work for us, all that is left to do is to:\n",
    "1. Modify the `ols` and `ridge` functions to solve OLS and ridge, respectively on the arguments provided to the functions ($X$ and $y$). (6pts)\n",
    "2. Try different values of the regularization coefficient for the ridge problem. You should be able to get a decent reproduction of the original image. (2pts)\n",
    "3. Explain why OLS does a bad job recovering the image, but ridge does an acceptable job with a good choice of alpha (2pts)"
   ]
  },
  {
   "cell_type": "code",
   "execution_count": 32,
   "metadata": {
    "collapsed": true
   },
   "outputs": [],
   "source": [
    "from scipy.io import loadmat\n",
    "\n",
    "from sklearn.linear_model import Lasso\n",
    "from sklearn.linear_model import Ridge\n",
    "from matplotlib.pyplot import imshow\n",
    "\n",
    "import numpy as np\n",
    "import numpy.linalg as la\n",
    "import matplotlib\n",
    "import matplotlib.pyplot as plt\n",
    "\n",
    "import PIL.Image\n",
    "import glob\n",
    "import re\n",
    "\n",
    "def read_image_array(image_path):\n",
    "  im = np.asarray(PIL.Image.open(image_path)).ravel()\n",
    "  return im\n",
    "\n",
    "def read_images(ignore=[]):\n",
    "  frame_path = 'faces/'\n",
    "  frames = []\n",
    "  file_list = glob.glob(frame_path + \"*.png\")\n",
    "  for file_name in set(file_list) - set(ignore):\n",
    "    frames.append(read_image_array(file_name))\n",
    "  frames_array = np.array(frames).T\n",
    "  normalized = frames_array / 255.0 - np.mean(frames_array / 255.0, axis=0)\n",
    "  return normalized\n",
    "\n",
    "def ols(X, y):\n",
    "\n",
    "  return model\n",
    "\n",
    "def ridge(X, y):\n",
    "  #UPDATE THIS FUNCTION\n",
    "\n",
    "  return model\n",
    "\n",
    "def get_reference_image_name(corrupted_image_name):\n",
    "  parts = corrupted_image_name.split(\"_\")\n",
    "  return parts[1]\n",
    "\n",
    "def recover(method, name):\n",
    "  print(\"Recovering with\", name)\n",
    "  plt.figure()\n",
    "  corrupted_image_name = \"cor_585.png\"\n",
    "  print(\"recovering\", corrupted_image_name)\n",
    "  corrupted_image_path = corrupted_image_name\n",
    "  original_image_dimensions = np.asarray(PIL.Image.open(corrupted_image_path)).shape\n",
    "  reference_image_name = get_reference_image_name(corrupted_image_name)\n",
    "  reference_image = read_image_array('faces/' + reference_image_name)\n",
    "  reference_image_normalized = reference_image / 255.0 - np.mean(reference_image / 255.0)\n",
    "  corrupted_image = read_image_array(corrupted_image_path)\n",
    "  corrupted_image_normalized = corrupted_image / 255.0 - np.mean(corrupted_image / 255.0)\n",
    "  image_database = read_images()\n",
    "  model = method(image_database, corrupted_image_normalized)\n",
    "  recovered_image = np.dot(image_database, model)\n",
    "  recovered_image_restored = (np.dot(image_database, model) + np.mean(corrupted_image / 255.0)) * 255\n",
    "  return imshow(PIL.Image.fromarray(np.int32(recovered_image_restored.reshape(original_image_dimensions))).convert(\"L\"), cmap='gray')"
   ]
  },
  {
   "cell_type": "markdown",
   "metadata": {},
   "source": [
    "The code below will then save the restored images to the filesystem."
   ]
  },
  {
   "cell_type": "code",
   "execution_count": null,
   "metadata": {
    "collapsed": true
   },
   "outputs": [],
   "source": [
    "%matplotlib inline\n",
    "recover(ols, 'OLS')"
   ]
  },
  {
   "cell_type": "code",
   "execution_count": null,
   "metadata": {
    "collapsed": true
   },
   "outputs": [],
   "source": [
    "recover(ridge, 'Ridge')"
   ]
  },
  {
   "cell_type": "markdown",
   "metadata": {
    "ein.tags": "worksheet-0",
    "slideshow": {
     "slide_type": "-"
    }
   },
   "source": [
    "# Question 5: (5 pts)\n",
    "What are two properties of Naïve Bayes that make it so suitable for parallel/distributed computation and for analyzing \"streaming\" data (e.g. each document is processed only once and need not be further stored or revisited)? (5 pts)"
   ]
  },
  {
   "cell_type": "markdown",
   "metadata": {
    "ein.tags": "worksheet-0",
    "slideshow": {
     "slide_type": "-"
    }
   },
   "source": [
    "# Answer\n"
   ]
  }
 ],
 "metadata": {
  "kernelspec": {
   "display_name": "Python 2",
   "language": "python",
   "name": "python2"
  },
  "language_info": {
   "codemirror_mode": {
    "name": "ipython",
    "version": 2
   },
   "file_extension": ".py",
   "mimetype": "text/x-python",
   "name": "python",
   "nbconvert_exporter": "python",
   "pygments_lexer": "ipython2",
   "version": "2.7.14"
  },
  "name": "HW4-S18Sol.ipynb"
 },
 "nbformat": 4,
 "nbformat_minor": 1
}
